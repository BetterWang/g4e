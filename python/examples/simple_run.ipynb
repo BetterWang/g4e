{
 "cells": [
  {
   "cell_type": "code",
   "execution_count": 4,
   "metadata": {
    "collapsed": true,
    "pycharm": {
     "is_executing": false
    }
   },
   "outputs": [],
   "source": [
    "import inspect\n",
    "from os import path\n",
    "from g4epy import Geant4Eic\n",
    "this_file_dir = path.dirname(inspect.stack()[0][1])"
   ]
  },
  {
   "cell_type": "code",
   "execution_count": 5,
   "outputs": [
    {
     "data": {
      "text/plain": "VBox(children=(HBox(children=(Button(description='Terminate', layout=Layout(display=''), style=ButtonStyle(), …",
      "application/vnd.jupyter.widget-view+json": {
       "version_major": 2,
       "version_minor": 0,
       "model_id": "75e9aa3d408947c594d771652c508002"
      }
     },
     "metadata": {},
     "output_type": "display_data"
    }
   ],
   "source": [
    "g4e = Geant4Eic(detector='jleic', beamline='jleic')\n",
    "#g4e.source('/home/romanov/Downloads/beagle_eD.txt').output('test_run')\n",
    "g4e.source('/home/romanov/Downloads/herwig6_20k.hepmc')\n",
    "g4e.output('test_run').beam_on(20).run()\n"
   ],
   "metadata": {
    "collapsed": false,
    "pycharm": {
     "name": "#%%\n",
     "is_executing": false
    }
   }
  }
 ],
 "metadata": {
  "kernelspec": {
   "display_name": "Python 3",
   "language": "python",
   "name": "python3"
  },
  "language_info": {
   "codemirror_mode": {
    "name": "ipython",
    "version": 2
   },
   "file_extension": ".py",
   "mimetype": "text/x-python",
   "name": "python",
   "nbconvert_exporter": "python",
   "pygments_lexer": "ipython2",
   "version": "2.7.6"
  },
  "pycharm": {
   "stem_cell": {
    "cell_type": "raw",
    "source": [],
    "metadata": {
     "collapsed": false
    }
   }
  }
 },
 "nbformat": 4,
 "nbformat_minor": 0
}