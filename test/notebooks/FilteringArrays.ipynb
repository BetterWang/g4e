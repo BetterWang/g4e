{
 "cells": [
  {
   "cell_type": "code",
   "execution_count": 1,
   "metadata": {},
   "outputs": [],
   "source": [
    "import uproot4\n",
    "import awkward1 as ak"
   ]
  },
  {
   "cell_type": "code",
   "execution_count": 4,
   "metadata": {
    "pycharm": {
     "name": "#%%\n"
    }
   },
   "outputs": [
    {
     "name": "stdout",
     "output_type": "stream",
     "text": [
      "[[1, 3], []]\n"
     ]
    }
   ],
   "source": [
    "vals2 = ak.Array([[1,2,3],[4,5]])\n",
    "mask2 = ak.Array([[True, False, True], [False, False]])\n",
    "print(vals2[mask2])\n"
   ]
  },
  {
   "cell_type": "code",
   "execution_count": 3,
   "metadata": {
    "pycharm": {
     "name": "#%%\n"
    }
   },
   "outputs": [],
   "source": [
    "#    Event number   0                        1    2               3               4\n",
    "trk_mom = ak.Array([[1.1, 2.2],              [],  [3.3, 4.4],     [5.5],          [6.6, 7.7, 8.8]])\n",
    "hit_id  = ak.Array([[0, 0, 0, 1, 1],         [],  [1, 1, 0] ,     [0, 0, 0],      [2, 2, 1]])\n",
    "hit_z   = ak.Array([[50, 100, 100, 50, 100], [],  [100, 50, 100], [100, 100, 50], [50, 100, 100]])"
   ]
  },
  {
   "cell_type": "code",
   "execution_count": 16,
   "metadata": {
    "pycharm": {
     "name": "#%%\n"
    }
   },
   "outputs": [
    {
     "name": "stdout",
     "output_type": "stream",
     "text": [
      "[5, 0, 3, 3, 3]\n",
      "[5, 0, 3, 3, 3]\n"
     ]
    }
   ],
   "source": [
    "print(ak.num(hit_id))\n",
    "print(ak.num(hit_z))"
   ]
  },
  {
   "cell_type": "code",
   "execution_count": 9,
   "metadata": {
    "pycharm": {
     "name": "#%%\n"
    }
   },
   "outputs": [
    {
     "name": "stdout",
     "output_type": "stream",
     "text": [
      "[[False, True, True, False, True], [], ... [True, True, False], [False, True, True]]\n"
     ]
    }
   ],
   "source": [
    "print(hit_z >= 100)\n"
   ]
  },
  {
   "cell_type": "code",
   "execution_count": 17,
   "metadata": {
    "pycharm": {
     "name": "#%%\n"
    }
   },
   "outputs": [
    {
     "name": "stdout",
     "output_type": "stream",
     "text": [
      "[[0, 0, 1], [], [1, 0], [0, 0], [2, 1]]\n"
     ]
    }
   ],
   "source": [
    "print(hit_id[hit_z >= 100])"
   ]
  },
  {
   "cell_type": "code",
   "execution_count": 19,
   "metadata": {
    "pycharm": {
     "name": "#%%\n"
    }
   },
   "outputs": [
    {
     "name": "stdout",
     "output_type": "stream",
     "text": [
      "[[None, 0, 0, None, 1], [], [1, None, 0], [0, 0, None], [None, 2, 1]]\n",
      "[5, 0, 3, 3, 3]\n"
     ]
    }
   ],
   "source": [
    "#If the trk ids are not positions in the trk_* arrays, they need to be translated somehow to those positions before you can use it this way. (For more, see the full documentation.)\n",
    "\n",
    "#Another thing that could be useful to know is that there's a way to apply cuts that does not change the shape of the array. If you use \"mask\":\n",
    "\n",
    "print(hit_id.mask[hit_z >= 100])\n",
    "print(ak.num(hit_id.mask[hit_z >= 100]))"
   ]
  },
  {
   "cell_type": "code",
   "execution_count": 22,
   "metadata": {
    "pycharm": {
     "name": "#%%\n"
    }
   },
   "outputs": [
    {
     "name": "stdout",
     "output_type": "stream",
     "text": [
      "[[None, 1.1, 1.1, None, 2.2], [], ... None, 3.3], [5.5, 5.5, None], [None, 8.8, 7.7]]\n"
     ]
    }
   ],
   "source": [
    "#the True values in hit_z >= 100 pass hit_ids through and the False values put in a placeholder \"None\". You can use this array of integers and Nones like an array of integers; the Nones pass through as None.\n",
    "\n",
    "print(trk_mom[hit_id.mask[hit_z >= 100]])\n"
   ]
  },
  {
   "cell_type": "code",
   "execution_count": 23,
   "metadata": {
    "pycharm": {
     "name": "#%%\n"
    }
   },
   "outputs": [
    {
     "name": "stdout",
     "output_type": "stream",
     "text": [
      "[None, 1.1, 1.1, None, 2.2, 4.4, None, 3.3, 5.5, 5.5, None, None, 8.8, 7.7]\n",
      "[1.1, 1.1, 2.2, 4.4, 3.3, 5.5, 5.5, 8.8, 7.7]\n"
     ]
    }
   ],
   "source": [
    "#As @tamasgal said, you can use ak.flatten to get rid of the nested list structure, but it also gets rid of None values. (None is treated like an empty list for the purposes of flattening.) Note that the default axis for ak.flatten is axis=1, which only flattens the first level, but you might need to flatten all levels at once; axis=None does that:\n",
    "\n",
    "print(ak.flatten(trk_mom[hit_id.mask[hit_z >= 100]], axis=1))\n",
    "print(ak.flatten(trk_mom[hit_id.mask[hit_z >= 100]], axis=None))"
   ]
  }
 ],
 "metadata": {
  "kernelspec": {
   "display_name": "Python 3",
   "language": "python",
   "name": "python3"
  },
  "language_info": {
   "codemirror_mode": {
    "name": "ipython",
    "version": 3
   },
   "file_extension": ".py",
   "mimetype": "text/x-python",
   "name": "python",
   "nbconvert_exporter": "python",
   "pygments_lexer": "ipython3",
   "version": "3.8.5"
  }
 },
 "nbformat": 4,
 "nbformat_minor": 1
}