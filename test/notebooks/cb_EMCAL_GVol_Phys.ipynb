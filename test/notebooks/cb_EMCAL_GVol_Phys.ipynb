{
 "cells": [
  {
   "cell_type": "code",
   "execution_count": 1,
   "id": "seven-venezuela",
   "metadata": {},
   "outputs": [],
   "source": [
    "import uproot4\n",
    "from matplotlib import pyplot as p\n",
    "from hist import Hist\n",
    "import hist\n",
    "import awkward1 as ak\n",
    "import numpy as np\n",
    "import matplotlib.pyplot as plt\n",
    "from matplotlib.gridspec import GridSpec\n",
    "import matplotlib.image as mpimg\n",
    "\n",
    "# Pretty printing arrays\n",
    "from pprint import pprint"
   ]
  },
  {
   "cell_type": "code",
   "execution_count": 2,
   "id": "fluid-publisher",
   "metadata": {},
   "outputs": [
    {
     "name": "stdout",
     "output_type": "stream",
     "text": [
      "[Errno 2] No such file or directory: '/home/pipi/newyr/g4e/g4e-dev/examples'\n",
      "/home/romanov/eic/soft/g4e/g4e-dev/test/notebooks\n"
     ]
    }
   ],
   "source": [
    "cd /home/pipi/newyr/g4e/g4e-dev/examples"
   ]
  },
  {
   "cell_type": "code",
   "execution_count": 3,
   "id": "gross-approach",
   "metadata": {},
   "outputs": [
    {
     "name": "stdout",
     "output_type": "stream",
     "text": [
      "FilteringArrays.ipynb  TheFile.ipynb  cb_EMCAL_GVol_Phys.ipynb\n"
     ]
    }
   ],
   "source": [
    "ls"
   ]
  },
  {
   "cell_type": "code",
   "execution_count": 4,
   "id": "supreme-carnival",
   "metadata": {},
   "outputs": [
    {
     "ename": "FileNotFoundError",
     "evalue": "file not found\n\n    'my_root_instead_of_simple_run.root'\n\nFiles may be specified as:\n   * str/bytes: relative or absolute filesystem path or URL, without any colons\n         other than Windows drive letter or URL schema.\n         Examples: \"rel/file.root\", \"C:\\abs\\file.root\", \"http://where/what.root\"\n   * str/bytes: same with an object-within-ROOT path, separated by a colon.\n         Example: \"rel/file.root:tdirectory/ttree\"\n   * pathlib.Path: always interpreted as a filesystem path or URL only (no\n         object-within-ROOT path), regardless of whether there are any colons.\n         Examples: Path(\"rel:/file.root\"), Path(\"/abs/path:stuff.root\")\n\nFunctions that accept many files (uproot.iterate, etc.) also allow:\n   * glob syntax in str/bytes and pathlib.Path.\n         Examples: Path(\"rel/*.root\"), \"/abs/*.root:tdirectory/ttree\"\n   * dict: keys are filesystem paths, values are objects-within-ROOT paths.\n         Example: {\"/data_v1/*.root\": \"ttree_v1\", \"/data_v2/*.root\": \"ttree_v2\"}\n   * already-open TTree objects.\n   * iterables of the above.\n",
     "output_type": "error",
     "traceback": [
      "\u001b[0;31m---------------------------------------------------------------------------\u001b[0m",
      "\u001b[0;31mFileNotFoundError\u001b[0m                         Traceback (most recent call last)",
      "\u001b[0;32m~/eic/soft/g4e/g4e-dev/venv/lib/python3.8/site-packages/uproot/source/file.py\u001b[0m in \u001b[0;36m__init__\u001b[0;34m(self, file_path, **options)\u001b[0m\n\u001b[1;32m    109\u001b[0m         \u001b[0;32mtry\u001b[0m\u001b[0;34m:\u001b[0m\u001b[0;34m\u001b[0m\u001b[0;34m\u001b[0m\u001b[0m\n\u001b[0;32m--> 110\u001b[0;31m             \u001b[0mself\u001b[0m\u001b[0;34m.\u001b[0m\u001b[0m_file\u001b[0m \u001b[0;34m=\u001b[0m \u001b[0mnumpy\u001b[0m\u001b[0;34m.\u001b[0m\u001b[0mmemmap\u001b[0m\u001b[0;34m(\u001b[0m\u001b[0mself\u001b[0m\u001b[0;34m.\u001b[0m\u001b[0m_file_path\u001b[0m\u001b[0;34m,\u001b[0m \u001b[0mdtype\u001b[0m\u001b[0;34m=\u001b[0m\u001b[0mself\u001b[0m\u001b[0;34m.\u001b[0m\u001b[0m_dtype\u001b[0m\u001b[0;34m,\u001b[0m \u001b[0mmode\u001b[0m\u001b[0;34m=\u001b[0m\u001b[0;34m\"r\"\u001b[0m\u001b[0;34m)\u001b[0m\u001b[0;34m\u001b[0m\u001b[0;34m\u001b[0m\u001b[0m\n\u001b[0m\u001b[1;32m    111\u001b[0m             \u001b[0mself\u001b[0m\u001b[0;34m.\u001b[0m\u001b[0m_fallback\u001b[0m \u001b[0;34m=\u001b[0m \u001b[0;32mNone\u001b[0m\u001b[0;34m\u001b[0m\u001b[0;34m\u001b[0m\u001b[0m\n",
      "\u001b[0;32m~/eic/soft/g4e/g4e-dev/venv/lib/python3.8/site-packages/numpy/core/memmap.py\u001b[0m in \u001b[0;36m__new__\u001b[0;34m(subtype, filename, dtype, mode, offset, shape, order)\u001b[0m\n\u001b[1;32m    224\u001b[0m         \u001b[0;32melse\u001b[0m\u001b[0;34m:\u001b[0m\u001b[0;34m\u001b[0m\u001b[0;34m\u001b[0m\u001b[0m\n\u001b[0;32m--> 225\u001b[0;31m             \u001b[0mf_ctx\u001b[0m \u001b[0;34m=\u001b[0m \u001b[0mopen\u001b[0m\u001b[0;34m(\u001b[0m\u001b[0mos_fspath\u001b[0m\u001b[0;34m(\u001b[0m\u001b[0mfilename\u001b[0m\u001b[0;34m)\u001b[0m\u001b[0;34m,\u001b[0m \u001b[0;34m(\u001b[0m\u001b[0;34m'r'\u001b[0m \u001b[0;32mif\u001b[0m \u001b[0mmode\u001b[0m \u001b[0;34m==\u001b[0m \u001b[0;34m'c'\u001b[0m \u001b[0;32melse\u001b[0m \u001b[0mmode\u001b[0m\u001b[0;34m)\u001b[0m\u001b[0;34m+\u001b[0m\u001b[0;34m'b'\u001b[0m\u001b[0;34m)\u001b[0m\u001b[0;34m\u001b[0m\u001b[0;34m\u001b[0m\u001b[0m\n\u001b[0m\u001b[1;32m    226\u001b[0m \u001b[0;34m\u001b[0m\u001b[0m\n",
      "\u001b[0;31mFileNotFoundError\u001b[0m: [Errno 2] No such file or directory: 'my_root_instead_of_simple_run.root'",
      "\nDuring handling of the above exception, another exception occurred:\n",
      "\u001b[0;31mFileNotFoundError\u001b[0m                         Traceback (most recent call last)",
      "\u001b[0;32m~/eic/soft/g4e/g4e-dev/venv/lib/python3.8/site-packages/uproot/source/file.py\u001b[0m in \u001b[0;36m__init__\u001b[0;34m(self, file_path)\u001b[0m\n\u001b[1;32m     36\u001b[0m         \u001b[0;32mtry\u001b[0m\u001b[0;34m:\u001b[0m\u001b[0;34m\u001b[0m\u001b[0;34m\u001b[0m\u001b[0m\n\u001b[0;32m---> 37\u001b[0;31m             \u001b[0mself\u001b[0m\u001b[0;34m.\u001b[0m\u001b[0m_file\u001b[0m \u001b[0;34m=\u001b[0m \u001b[0mopen\u001b[0m\u001b[0;34m(\u001b[0m\u001b[0mself\u001b[0m\u001b[0;34m.\u001b[0m\u001b[0m_file_path\u001b[0m\u001b[0;34m,\u001b[0m \u001b[0;34m\"rb\"\u001b[0m\u001b[0;34m)\u001b[0m\u001b[0;34m\u001b[0m\u001b[0;34m\u001b[0m\u001b[0m\n\u001b[0m\u001b[1;32m     38\u001b[0m         \u001b[0;32mexcept\u001b[0m \u001b[0muproot\u001b[0m\u001b[0;34m.\u001b[0m\u001b[0m_util\u001b[0m\u001b[0;34m.\u001b[0m\u001b[0m_FileNotFoundError\u001b[0m\u001b[0;34m:\u001b[0m\u001b[0;34m\u001b[0m\u001b[0;34m\u001b[0m\u001b[0m\n",
      "\u001b[0;31mFileNotFoundError\u001b[0m: [Errno 2] No such file or directory: 'my_root_instead_of_simple_run.root'",
      "\nDuring handling of the above exception, another exception occurred:\n",
      "\u001b[0;31mFileNotFoundError\u001b[0m                         Traceback (most recent call last)",
      "\u001b[0;32m<ipython-input-4-63f72ef0857e>\u001b[0m in \u001b[0;36m<module>\u001b[0;34m\u001b[0m\n\u001b[0;32m----> 1\u001b[0;31m \u001b[0mfile\u001b[0m\u001b[0;34m=\u001b[0m\u001b[0muproot4\u001b[0m\u001b[0;34m.\u001b[0m\u001b[0mopen\u001b[0m\u001b[0;34m(\u001b[0m\u001b[0;34m\"my_root_instead_of_simple_run.root\"\u001b[0m\u001b[0;34m)\u001b[0m\u001b[0;34m\u001b[0m\u001b[0;34m\u001b[0m\u001b[0m\n\u001b[0m\u001b[1;32m      2\u001b[0m \u001b[0;34m\u001b[0m\u001b[0m\n\u001b[1;32m      3\u001b[0m \u001b[0;31m# To see all object names in the file:\u001b[0m\u001b[0;34m\u001b[0m\u001b[0;34m\u001b[0m\u001b[0;34m\u001b[0m\u001b[0m\n\u001b[1;32m      4\u001b[0m \u001b[0mfile\u001b[0m\u001b[0;34m.\u001b[0m\u001b[0mitems\u001b[0m\u001b[0;34m(\u001b[0m\u001b[0;34m)\u001b[0m\u001b[0;34m\u001b[0m\u001b[0;34m\u001b[0m\u001b[0m\n\u001b[1;32m      5\u001b[0m \u001b[0;34m\u001b[0m\u001b[0m\n",
      "\u001b[0;32m~/eic/soft/g4e/g4e-dev/venv/lib/python3.8/site-packages/uproot/reading.py\u001b[0m in \u001b[0;36mopen\u001b[0;34m(path, object_cache, array_cache, custom_classes, decompression_executor, interpretation_executor, **options)\u001b[0m\n\u001b[1;32m    137\u001b[0m         )\n\u001b[1;32m    138\u001b[0m \u001b[0;34m\u001b[0m\u001b[0m\n\u001b[0;32m--> 139\u001b[0;31m     file = ReadOnlyFile(\n\u001b[0m\u001b[1;32m    140\u001b[0m         \u001b[0mfile_path\u001b[0m\u001b[0;34m,\u001b[0m\u001b[0;34m\u001b[0m\u001b[0;34m\u001b[0m\u001b[0m\n\u001b[1;32m    141\u001b[0m         \u001b[0mobject_cache\u001b[0m\u001b[0;34m=\u001b[0m\u001b[0mobject_cache\u001b[0m\u001b[0;34m,\u001b[0m\u001b[0;34m\u001b[0m\u001b[0;34m\u001b[0m\u001b[0m\n",
      "\u001b[0;32m~/eic/soft/g4e/g4e-dev/venv/lib/python3.8/site-packages/uproot/reading.py\u001b[0m in \u001b[0;36m__init__\u001b[0;34m(self, file_path, object_cache, array_cache, custom_classes, decompression_executor, interpretation_executor, **options)\u001b[0m\n\u001b[1;32m    551\u001b[0m             \u001b[0mfile_path\u001b[0m\u001b[0;34m,\u001b[0m \u001b[0mself\u001b[0m\u001b[0;34m.\u001b[0m\u001b[0m_options\u001b[0m\u001b[0;34m\u001b[0m\u001b[0;34m\u001b[0m\u001b[0m\n\u001b[1;32m    552\u001b[0m         )\n\u001b[0;32m--> 553\u001b[0;31m         self._source = Source(\n\u001b[0m\u001b[1;32m    554\u001b[0m             \u001b[0mfile_path\u001b[0m\u001b[0;34m,\u001b[0m \u001b[0;34m**\u001b[0m\u001b[0mself\u001b[0m\u001b[0;34m.\u001b[0m\u001b[0m_options\u001b[0m  \u001b[0;31m# NOTE: a comma after **options breaks Python 2\u001b[0m\u001b[0;34m\u001b[0m\u001b[0;34m\u001b[0m\u001b[0m\n\u001b[1;32m    555\u001b[0m         )\n",
      "\u001b[0;32m~/eic/soft/g4e/g4e-dev/venv/lib/python3.8/site-packages/uproot/source/file.py\u001b[0m in \u001b[0;36m__init__\u001b[0;34m(self, file_path, **options)\u001b[0m\n\u001b[1;32m    114\u001b[0m             \u001b[0mopts\u001b[0m \u001b[0;34m=\u001b[0m \u001b[0mdict\u001b[0m\u001b[0;34m(\u001b[0m\u001b[0moptions\u001b[0m\u001b[0;34m)\u001b[0m\u001b[0;34m\u001b[0m\u001b[0;34m\u001b[0m\u001b[0m\n\u001b[1;32m    115\u001b[0m             \u001b[0mopts\u001b[0m\u001b[0;34m[\u001b[0m\u001b[0;34m\"num_workers\"\u001b[0m\u001b[0;34m]\u001b[0m \u001b[0;34m=\u001b[0m \u001b[0mnum_fallback_workers\u001b[0m\u001b[0;34m\u001b[0m\u001b[0;34m\u001b[0m\u001b[0m\n\u001b[0;32m--> 116\u001b[0;31m             self._fallback = uproot.source.file.MultithreadedFileSource(\n\u001b[0m\u001b[1;32m    117\u001b[0m                 \u001b[0mfile_path\u001b[0m\u001b[0;34m,\u001b[0m \u001b[0;34m**\u001b[0m\u001b[0mopts\u001b[0m  \u001b[0;31m# NOTE: a comma after **opts breaks Python 2\u001b[0m\u001b[0;34m\u001b[0m\u001b[0;34m\u001b[0m\u001b[0m\n\u001b[1;32m    118\u001b[0m             )\n",
      "\u001b[0;32m~/eic/soft/g4e/g4e-dev/venv/lib/python3.8/site-packages/uproot/source/file.py\u001b[0m in \u001b[0;36m__init__\u001b[0;34m(self, file_path, **options)\u001b[0m\n\u001b[1;32m    244\u001b[0m         \u001b[0mself\u001b[0m\u001b[0;34m.\u001b[0m\u001b[0m_file_path\u001b[0m \u001b[0;34m=\u001b[0m \u001b[0mfile_path\u001b[0m\u001b[0;34m\u001b[0m\u001b[0;34m\u001b[0m\u001b[0m\n\u001b[1;32m    245\u001b[0m         self._executor = uproot.source.futures.ResourceThreadPoolExecutor(\n\u001b[0;32m--> 246\u001b[0;31m             \u001b[0;34m[\u001b[0m\u001b[0mFileResource\u001b[0m\u001b[0;34m(\u001b[0m\u001b[0mfile_path\u001b[0m\u001b[0;34m)\u001b[0m \u001b[0;32mfor\u001b[0m \u001b[0mx\u001b[0m \u001b[0;32min\u001b[0m \u001b[0muproot\u001b[0m\u001b[0;34m.\u001b[0m\u001b[0m_util\u001b[0m\u001b[0;34m.\u001b[0m\u001b[0mrange\u001b[0m\u001b[0;34m(\u001b[0m\u001b[0mnum_workers\u001b[0m\u001b[0;34m)\u001b[0m\u001b[0;34m]\u001b[0m\u001b[0;34m\u001b[0m\u001b[0;34m\u001b[0m\u001b[0m\n\u001b[0m\u001b[1;32m    247\u001b[0m         )\n\u001b[1;32m    248\u001b[0m         \u001b[0mself\u001b[0m\u001b[0;34m.\u001b[0m\u001b[0m_num_bytes\u001b[0m \u001b[0;34m=\u001b[0m \u001b[0mos\u001b[0m\u001b[0;34m.\u001b[0m\u001b[0mpath\u001b[0m\u001b[0;34m.\u001b[0m\u001b[0mgetsize\u001b[0m\u001b[0;34m(\u001b[0m\u001b[0mself\u001b[0m\u001b[0;34m.\u001b[0m\u001b[0m_file_path\u001b[0m\u001b[0;34m)\u001b[0m\u001b[0;34m\u001b[0m\u001b[0;34m\u001b[0m\u001b[0m\n",
      "\u001b[0;32m~/eic/soft/g4e/g4e-dev/venv/lib/python3.8/site-packages/uproot/source/file.py\u001b[0m in \u001b[0;36m<listcomp>\u001b[0;34m(.0)\u001b[0m\n\u001b[1;32m    244\u001b[0m         \u001b[0mself\u001b[0m\u001b[0;34m.\u001b[0m\u001b[0m_file_path\u001b[0m \u001b[0;34m=\u001b[0m \u001b[0mfile_path\u001b[0m\u001b[0;34m\u001b[0m\u001b[0;34m\u001b[0m\u001b[0m\n\u001b[1;32m    245\u001b[0m         self._executor = uproot.source.futures.ResourceThreadPoolExecutor(\n\u001b[0;32m--> 246\u001b[0;31m             \u001b[0;34m[\u001b[0m\u001b[0mFileResource\u001b[0m\u001b[0;34m(\u001b[0m\u001b[0mfile_path\u001b[0m\u001b[0;34m)\u001b[0m \u001b[0;32mfor\u001b[0m \u001b[0mx\u001b[0m \u001b[0;32min\u001b[0m \u001b[0muproot\u001b[0m\u001b[0;34m.\u001b[0m\u001b[0m_util\u001b[0m\u001b[0;34m.\u001b[0m\u001b[0mrange\u001b[0m\u001b[0;34m(\u001b[0m\u001b[0mnum_workers\u001b[0m\u001b[0;34m)\u001b[0m\u001b[0;34m]\u001b[0m\u001b[0;34m\u001b[0m\u001b[0;34m\u001b[0m\u001b[0m\n\u001b[0m\u001b[1;32m    247\u001b[0m         )\n\u001b[1;32m    248\u001b[0m         \u001b[0mself\u001b[0m\u001b[0;34m.\u001b[0m\u001b[0m_num_bytes\u001b[0m \u001b[0;34m=\u001b[0m \u001b[0mos\u001b[0m\u001b[0;34m.\u001b[0m\u001b[0mpath\u001b[0m\u001b[0;34m.\u001b[0m\u001b[0mgetsize\u001b[0m\u001b[0;34m(\u001b[0m\u001b[0mself\u001b[0m\u001b[0;34m.\u001b[0m\u001b[0m_file_path\u001b[0m\u001b[0;34m)\u001b[0m\u001b[0;34m\u001b[0m\u001b[0;34m\u001b[0m\u001b[0m\n",
      "\u001b[0;32m~/eic/soft/g4e/g4e-dev/venv/lib/python3.8/site-packages/uproot/source/file.py\u001b[0m in \u001b[0;36m__init__\u001b[0;34m(self, file_path)\u001b[0m\n\u001b[1;32m     37\u001b[0m             \u001b[0mself\u001b[0m\u001b[0;34m.\u001b[0m\u001b[0m_file\u001b[0m \u001b[0;34m=\u001b[0m \u001b[0mopen\u001b[0m\u001b[0;34m(\u001b[0m\u001b[0mself\u001b[0m\u001b[0;34m.\u001b[0m\u001b[0m_file_path\u001b[0m\u001b[0;34m,\u001b[0m \u001b[0;34m\"rb\"\u001b[0m\u001b[0;34m)\u001b[0m\u001b[0;34m\u001b[0m\u001b[0;34m\u001b[0m\u001b[0m\n\u001b[1;32m     38\u001b[0m         \u001b[0;32mexcept\u001b[0m \u001b[0muproot\u001b[0m\u001b[0;34m.\u001b[0m\u001b[0m_util\u001b[0m\u001b[0;34m.\u001b[0m\u001b[0m_FileNotFoundError\u001b[0m\u001b[0;34m:\u001b[0m\u001b[0;34m\u001b[0m\u001b[0;34m\u001b[0m\u001b[0m\n\u001b[0;32m---> 39\u001b[0;31m             \u001b[0;32mraise\u001b[0m \u001b[0muproot\u001b[0m\u001b[0;34m.\u001b[0m\u001b[0m_util\u001b[0m\u001b[0;34m.\u001b[0m\u001b[0m_file_not_found\u001b[0m\u001b[0;34m(\u001b[0m\u001b[0mfile_path\u001b[0m\u001b[0;34m)\u001b[0m\u001b[0;34m\u001b[0m\u001b[0;34m\u001b[0m\u001b[0m\n\u001b[0m\u001b[1;32m     40\u001b[0m \u001b[0;34m\u001b[0m\u001b[0m\n\u001b[1;32m     41\u001b[0m     \u001b[0;34m@\u001b[0m\u001b[0mproperty\u001b[0m\u001b[0;34m\u001b[0m\u001b[0;34m\u001b[0m\u001b[0m\n",
      "\u001b[0;31mFileNotFoundError\u001b[0m: file not found\n\n    'my_root_instead_of_simple_run.root'\n\nFiles may be specified as:\n   * str/bytes: relative or absolute filesystem path or URL, without any colons\n         other than Windows drive letter or URL schema.\n         Examples: \"rel/file.root\", \"C:\\abs\\file.root\", \"http://where/what.root\"\n   * str/bytes: same with an object-within-ROOT path, separated by a colon.\n         Example: \"rel/file.root:tdirectory/ttree\"\n   * pathlib.Path: always interpreted as a filesystem path or URL only (no\n         object-within-ROOT path), regardless of whether there are any colons.\n         Examples: Path(\"rel:/file.root\"), Path(\"/abs/path:stuff.root\")\n\nFunctions that accept many files (uproot.iterate, etc.) also allow:\n   * glob syntax in str/bytes and pathlib.Path.\n         Examples: Path(\"rel/*.root\"), \"/abs/*.root:tdirectory/ttree\"\n   * dict: keys are filesystem paths, values are objects-within-ROOT paths.\n         Example: {\"/data_v1/*.root\": \"ttree_v1\", \"/data_v2/*.root\": \"ttree_v2\"}\n   * already-open TTree objects.\n   * iterables of the above.\n"
     ]
    }
   ],
   "source": [
    "file=uproot4.open(\"simple_run.root\")\n",
    "\n",
    "# To see all object names in the file:\n",
    "file.items()\n",
    "\n",
    "# only names: file.keys(), file.values()))\n",
    "\n",
    "# To see items in subdirectories\n",
    "# file.keys(recursive=True)\n",
    "\n",
    "# There are more functions related to file:\n",
    "# https://uproot.readthedocs.io/en/latest/uproot.reading.ReadOnlyFile.html\n",
    "\n",
    "# Root directories:\n",
    "# https://uproot.readthedocs.io/en/latest/uproot.reading.ReadOnlyDirectory.html\n",
    "\n",
    "# To read multiple files at once (aka TChain)\n",
    "# https://uproot.readthedocs.io/en/latest/basic.html#iterating-over-many-files"
   ]
  },
  {
   "cell_type": "code",
   "execution_count": null,
   "id": "hollow-filter",
   "metadata": {},
   "outputs": [],
   "source": [
    "# File has a data tree called 'events'\n",
    "# get events tree as a separate thing\n",
    "tree = file[\"events\"]\n",
    "\n",
    "# Print number of entries\n",
    "print(f\"Number of entries: {tree.num_entries}\")\n",
    "\n",
    "#Uncomment this to see all values:\n",
    "tree.show()\n",
    "\n",
    "\n",
    "# More TBranch functions:\n",
    "#https://uproot.readthedocs.io/en/latest/uproot.behaviors.TBranch.TBranch.html"
   ]
  },
  {
   "cell_type": "code",
   "execution_count": null,
   "id": "excess-chance",
   "metadata": {},
   "outputs": [],
   "source": [
    "# To load WHOLE data from a branch as an array:\n",
    "hit_id = tree['hit_id'].array()\n",
    "hit_x = tree['hit_x'].array()\n",
    "hit_y = tree['hit_y'].array()\n",
    "\n",
    "\n",
    "\n",
    "\n",
    "# library=np to return/convert array as a numpy library.\n",
    "\n",
    "# print(hit_xyz)\n",
    "# print(f\"There are total: {len(hit_xyz['hit_x'])} hits records\")\n",
    "\n",
    "# 261\n",
    "# [[...],[...], .... ]\n",
    "#counting\n",
    "'''for i in hit_vol:\n",
    "    for j in i:\n",
    "        if j[0]=='c':\n",
    "            print(j)'''\n",
    "    \n"
   ]
  },
  {
   "cell_type": "code",
   "execution_count": null,
   "id": "fresh-combining",
   "metadata": {},
   "outputs": [],
   "source": [
    "hit_z = tree['hit_z'].array()\n",
    "hit_vol = tree['hit_vol_name'].array()"
   ]
  },
  {
   "cell_type": "code",
   "execution_count": null,
   "id": "embedded-empire",
   "metadata": {},
   "outputs": [],
   "source": [
    "for i in hit_vol:\n",
    "    for j in i:\n",
    "        if j[:len('ffi_ZDC')]=='ffi_ZDC':\n",
    "            print(j)"
   ]
  },
  {
   "cell_type": "code",
   "execution_count": null,
   "id": "worst-saturday",
   "metadata": {},
   "outputs": [],
   "source": [
    "\n",
    "#for i in tree[\"hit_vol_name\"].array():\n",
    "    #print(i)\n",
    "print(ak.num(hit_id))\n",
    "print(ak.num(hit_z))\n",
    "print(ak.num(hit_vol))"
   ]
  },
  {
   "cell_type": "code",
   "execution_count": null,
   "id": "eight-official",
   "metadata": {},
   "outputs": [],
   "source": [
    "hit_zcb=hit_z.mask[hit_vol=='cb_EMCAL_GVol_Phys']\n",
    "hit_xcb=hit_x.mask[hit_vol=='cb_EMCAL_GVol_Phys']\n",
    "hit_ycb=hit_y.mask[hit_vol=='cb_EMCAL_GVol_Phys']\n"
   ]
  },
  {
   "cell_type": "code",
   "execution_count": null,
   "id": "perceived-textbook",
   "metadata": {},
   "outputs": [],
   "source": [
    "h_cb = Hist(\n",
    "    hist.axis.Regular(50, -250, 250, name=\"X\", label=\"x [cm]\", flow=False),\n",
    "    hist.axis.Regular(50, -250, 250, name=\"Y\", label=\"y [cm]\", flow=False),\n",
    ")\n",
    "\n",
    "h_cb.fill(ak.to_numpy(ak.flatten(hit_xcb/10)),\n",
    "       ak.to_numpy(ak.flatten(hit_ycb/10)))\n",
    "h_cb.plot()"
   ]
  },
  {
   "cell_type": "code",
   "execution_count": null,
   "id": "sufficient-tourist",
   "metadata": {},
   "outputs": [],
   "source": [
    "z_cb= Hist(\n",
    "    hist.axis.Regular(50, -350, 350, name=\"X\", label=\"x [cm]\", flow=False),)\n",
    "z_cb.fill(ak.to_numpy(ak.flatten(hit_zcb/10)))\n",
    "z_cb.plot()"
   ]
  },
  {
   "cell_type": "code",
   "execution_count": null,
   "id": "sublime-arnold",
   "metadata": {},
   "outputs": [],
   "source": [
    "hit_z_zdc=hit_z.mask[hit_vol[:,:,:len('ci_EMCAL')]=='ci_EMCAL']\n",
    "hit_x_zdc=hit_x.mask[hit_vol[:,:,:len('ci_EMCAL')]=='ci_EMCAL']\n",
    "hit_y_zdc=hit_y.mask[hit_vol[:,:,:len('ci_EMCAL')]=='ci_EMCAL']"
   ]
  },
  {
   "cell_type": "code",
   "execution_count": null,
   "id": "copyrighted-system",
   "metadata": {},
   "outputs": [],
   "source": [
    "z= Hist(\n",
    "    hist.axis.Regular(50, -5000, 5000, name=\"X\", label=\"x [cm]\", flow=False),)\n",
    "z.fill(ak.to_numpy(ak.flatten(hit_z_zdc/10)))\n",
    "z.plot()\n"
   ]
  },
  {
   "cell_type": "code",
   "execution_count": null,
   "id": "aquatic-rocket",
   "metadata": {},
   "outputs": [],
   "source": [
    "h = Hist(\n",
    "    hist.axis.Regular(100, -5000, 5000, name=\"X\", label=\"x [cm]\", flow=False),\n",
    "    hist.axis.Regular(100, -5000, 5000, name=\"Y\", label=\"y [cm]\", flow=False),\n",
    ")\n",
    "\n",
    "h.fill(ak.to_numpy(ak.flatten(hit_x_zdc/1)),\n",
    "       ak.to_numpy(ak.flatten(hit_y_zdc/1)))\n",
    "h.plot()"
   ]
  },
  {
   "cell_type": "code",
   "execution_count": null,
   "id": "comparative-aquatic",
   "metadata": {},
   "outputs": [],
   "source": [
    "hit_z_zdc_trk=hit_z.mask[hit_vol[:,:,:len('ffi_ZDC_GVol_Phys')]=='ffi_ZDC_GVol_Phys']\n",
    "hit_x_zdc_trk=hit_x.mask[hit_vol[:,:,:len('ffi_ZDC_GVol_Phys')]=='ffi_ZDC_GVol_Phys']\n",
    "hit_y_zdc_trk=hit_y.mask[hit_vol[:,:,:len('ffi_ZDC_GVol_Phys')]=='ffi_ZDC_GVol_Phys']"
   ]
  },
  {
   "cell_type": "code",
   "execution_count": null,
   "id": "smoking-mailman",
   "metadata": {},
   "outputs": [],
   "source": [
    "z_trk= Hist(\n",
    "    hist.axis.Regular(50, -5000, 5000, name=\"X\", label=\"x [cm]\", flow=False),)\n",
    "z_trk.fill(ak.to_numpy(ak.flatten(hit_z_zdc_trk/10)))\n",
    "z_trk.plot()"
   ]
  },
  {
   "cell_type": "code",
   "execution_count": null,
   "id": "acquired-moment",
   "metadata": {},
   "outputs": [],
   "source": [
    "h_trk = Hist(\n",
    "    hist.axis.Regular(100, -5000, 5000, name=\"X\", label=\"x [cm]\", flow=False),\n",
    "    hist.axis.Regular(100, -5000, 5000, name=\"Y\", label=\"y [cm]\", flow=False),\n",
    ")\n",
    "\n",
    "h_trk.fill(ak.to_numpy(ak.flatten(hit_x_zdc_trk/1)),\n",
    "       ak.to_numpy(ak.flatten(hit_y_zdc_trk/1)))\n",
    "h_trk.plot()"
   ]
  },
  {
   "cell_type": "code",
   "execution_count": null,
   "id": "recent-inside",
   "metadata": {},
   "outputs": [],
   "source": [
    "hit_z_offm_trk=hit_z.mask[hit_vol[:,:,:len('ffi__OFFM_TRK')]=='ffi__OFFM_TRK']\n",
    "hit_x_offm_trk=hit_x.mask[hit_vol[:,:,:len('ffi__OFFM_TRK')]=='ffi__OFFM_TRK']\n",
    "hit_y_offm_trk=hit_y.mask[hit_vol[:,:,:len('ffi__OFFM_TRK')]=='ffi__OFFM_TRK']"
   ]
  },
  {
   "cell_type": "code",
   "execution_count": null,
   "id": "neutral-wyoming",
   "metadata": {},
   "outputs": [],
   "source": [
    "z_OFFM= Hist(\n",
    "    hist.axis.Regular(50, -10000, 10000, name=\"X\", label=\"x [cm]\", flow=False),)\n",
    "z_OFFM.fill(ak.to_numpy(ak.flatten(hit_z_offm_trk/10)))\n",
    "z_OFFM.plot()"
   ]
  },
  {
   "cell_type": "code",
   "execution_count": null,
   "id": "departmental-norway",
   "metadata": {},
   "outputs": [],
   "source": [
    "h_offm = Hist(\n",
    "    hist.axis.Regular(100, -250, 250, name=\"X\", label=\"x [cm]\", flow=False),\n",
    "    hist.axis.Regular(100, -250, 250, name=\"Y\", label=\"y [cm]\", flow=False),\n",
    ")\n",
    "\n",
    "h_offm.fill(ak.to_numpy(ak.flatten(hit_x_offm_trk/1)),\n",
    "       ak.to_numpy(ak.flatten(hit_y_offm_trk/1)))\n",
    "h_offm.plot()"
   ]
  },
  {
   "cell_type": "code",
   "execution_count": null,
   "id": "clean-playing",
   "metadata": {},
   "outputs": [],
   "source": [
    "hit_z_offm2_trk=hit_z.mask[hit_vol[:,:,:len('ffi_OFFM_TRK2')]=='ffi_OFFM_TRK2']\n",
    "hit_x_offm2_trk=hit_x.mask[hit_vol[:,:,:len('ffi_OFFM_TRK2')]=='ffi_OFFM_TRK2']\n",
    "hit_y_offm2_trk=hit_y.mask[hit_vol[:,:,:len('ffi_OFFM_TRK2')]=='ffi_OFFM_TRK2']"
   ]
  },
  {
   "cell_type": "code",
   "execution_count": null,
   "id": "auburn-madison",
   "metadata": {},
   "outputs": [],
   "source": [
    "z_OFFM2= Hist(\n",
    "    hist.axis.Regular(50, -5000, 5000, name=\"X\", label=\"x [cm]\", flow=False),)\n",
    "z_OFFM2.fill(ak.to_numpy(ak.flatten(hit_z_offm2_trk/10)))\n",
    "z_OFFM2.plot()"
   ]
  },
  {
   "cell_type": "code",
   "execution_count": null,
   "id": "senior-investing",
   "metadata": {},
   "outputs": [],
   "source": [
    "h_offm2 = Hist(\n",
    "    hist.axis.Regular(100, -400, 400, name=\"X\", label=\"x [cm]\", flow=False),\n",
    "    hist.axis.Regular(100, -400, 400, name=\"Y\", label=\"y [cm]\", flow=False),\n",
    ")\n",
    "\n",
    "h_offm2.fill(ak.to_numpy(ak.flatten(hit_x_offm2_trk/1)),\n",
    "       ak.to_numpy(ak.flatten(hit_y_offm2_trk/1)))\n",
    "h_offm2.plot()"
   ]
  },
  {
   "cell_type": "code",
   "execution_count": null,
   "id": "accompanied-alfred",
   "metadata": {},
   "outputs": [],
   "source": [
    "for i in trk_id:\n",
    "    for j in i:\n",
    "        if j[:len('ffi_ZDC')]=='ffi_ZDC':\n",
    "            print(j)"
   ]
  },
  {
   "cell_type": "code",
   "execution_count": null,
   "id": "wooden-bubble",
   "metadata": {},
   "outputs": [],
   "source": [
    "hit_z_prot_trk=hit_z.mask[hit_vol[:,:,:len('ffi_PROT_D2')]=='ffi_PROT_D2']\n",
    "hit_x_prot_trk=hit_x.mask[hit_vol[:,:,:len('ffi_PROT_D2')]=='ffi_PROT_D2']\n",
    "hit_y_prot_trk=hit_y.mask[hit_vol[:,:,:len('ffi_PROT_D2')]=='ffi_PROT_D2']"
   ]
  },
  {
   "cell_type": "code",
   "execution_count": null,
   "id": "processed-confidence",
   "metadata": {},
   "outputs": [],
   "source": [
    "z_OFFM2= Hist(\n",
    "    hist.axis.Regular(50, -5000, 5000, name=\"X\", label=\"x [cm]\", flow=False),)\n",
    "z_OFFM2.fill(ak.to_numpy(ak.flatten(hit_z_prot_trk/10)))\n",
    "z_OFFM2.plot()"
   ]
  },
  {
   "cell_type": "code",
   "execution_count": null,
   "id": "royal-column",
   "metadata": {},
   "outputs": [],
   "source": [
    "h_offm2 = Hist(\n",
    "    hist.axis.Regular(100, -250, 250, name=\"X\", label=\"x [cm]\", flow=False),\n",
    "    hist.axis.Regular(100, -250, 250, name=\"Y\", label=\"y [cm]\", flow=False),\n",
    ")\n",
    "\n",
    "h_offm2.fill(ak.to_numpy(ak.flatten(hit_x_prot_trk/1)),\n",
    "       ak.to_numpy(ak.flatten(hit_y_prot_trk/1)))\n",
    "h_offm2.plot()"
   ]
  },
  {
   "cell_type": "code",
   "execution_count": null,
   "id": "regulation-discharge",
   "metadata": {},
   "outputs": [],
   "source": []
  }
 ],
 "metadata": {
  "kernelspec": {
   "display_name": "Python 3",
   "language": "python",
   "name": "python3"
  },
  "language_info": {
   "codemirror_mode": {
    "name": "ipython",
    "version": 3
   },
   "file_extension": ".py",
   "mimetype": "text/x-python",
   "name": "python",
   "nbconvert_exporter": "python",
   "pygments_lexer": "ipython3",
   "version": "3.8.5"
  }
 },
 "nbformat": 4,
 "nbformat_minor": 5
}
