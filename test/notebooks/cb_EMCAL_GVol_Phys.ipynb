{
 "cells": [
  {
   "cell_type": "code",
   "execution_count": null,
   "id": "elementary-audit",
   "metadata": {},
   "outputs": [],
   "source": []
  },
  {
   "cell_type": "code",
   "execution_count": 15,
   "id": "indonesian-sperm",
   "metadata": {},
   "outputs": [],
   "source": [
    "import uproot4\n",
    "from matplotlib import pyplot as p\n",
    "from hist import Hist\n",
    "import hist\n",
    "import awkward1 as ak\n",
    "import numpy as np\n",
    "import matplotlib.pyplot as plt\n",
    "from matplotlib.gridspec import GridSpec\n",
    "import matplotlib.image as mpimg\n",
    "\n",
    "# Pretty printing arrays\n",
    "from pprint import pprint"
   ]
  },
  {
   "cell_type": "code",
   "execution_count": 16,
   "id": "attended-induction",
   "metadata": {},
   "outputs": [
    {
     "name": "stdout",
     "output_type": "stream",
     "text": [
      "/home/pipi/newyr/g4e/g4e-dev/examples\n"
     ]
    }
   ],
   "source": [
    "cd /home/pipi/newyr/g4e/g4e-dev/examples"
   ]
  },
  {
   "cell_type": "code",
   "execution_count": 17,
   "id": "laden-liquid",
   "metadata": {},
   "outputs": [
    {
     "name": "stdout",
     "output_type": "stream",
     "text": [
      "add_subdetector.py          g4e_output.root\r\n",
      "beagle.mac                  g4e_simulation.py\r\n",
      "blah                        hello_world_g4e.py\r\n",
      "blehhh.pdf                  herwig.mac\r\n",
      "build_g4e.py                my_root_instead_of_simple_run.bgn.rndm\r\n",
      "check_overlaps.py           my_root_instead_of_simple_run.end.rndm\r\n",
      "cone_particle_gun.bgn.rndm  my_root_instead_of_simple_run.geo.gdml\r\n",
      "cone_particle_gun.end.rndm  my_root_instead_of_simple_run.geo.root\r\n",
      "cone_particle_gun.geo.gdml  my_root_instead_of_simple_run.root\r\n",
      "cone_particle_gun.geo.root  my_root_instead_of_simple_run.run.json\r\n",
      "cone_particle_gun.mac       my_root_instead_of_simple_run.run.mac\r\n",
      "cone_particle_gun.py        pythia.mac\r\n",
      "cone_particle_gun.root      simple_run_jleic.py\r\n",
      "cone_particle_gun.run.json  simple_run.py\r\n",
      "cone_particle_gun.run.mac   test_run.bgn.rndm\r\n",
      "cone_particle_gun_vis.py    test_run.end.rndm\r\n",
      "event_display.bgn.rndm      test_run.geo.gdml\r\n",
      "event_display.geo.gdml      test_run.geo.root\r\n",
      "event_display.geo.root      test_run.root\r\n",
      "event_display.py            test_run.run.json\r\n",
      "event_display.root          test_run.run.mac\r\n",
      "event_display.run.json      vis.bgn.rndm\r\n",
      "event_display.run.mac       vis.geo.gdml\r\n",
      "g4e_emcal_vis.py            vis.geo.root\r\n",
      "g4e_output.bgn.rndm         vis_new.mac\r\n",
      "g4e_output.end.rndm         vis.root\r\n",
      "g4e_output.geo.gdml         vis.run.json\r\n",
      "g4e_output.geo.root         vis.run.mac\r\n"
     ]
    }
   ],
   "source": [
    "ls"
   ]
  },
  {
   "cell_type": "code",
   "execution_count": 21,
   "id": "signal-reconstruction",
   "metadata": {},
   "outputs": [
    {
     "data": {
      "text/plain": [
       "[('events;1', <TTree 'events' (65 branches) at 0x7fbfdf3294c0>)]"
      ]
     },
     "execution_count": 21,
     "metadata": {},
     "output_type": "execute_result"
    }
   ],
   "source": [
    "file=uproot4.open(\"cone_particle_gun.root\")\n",
    "\n",
    "# To see all object names in the file:\n",
    "file.items()\n",
    "\n",
    "# only names: file.keys(), file.values()))\n",
    "\n",
    "# To see items in subdirectories\n",
    "# file.keys(recursive=True)\n",
    "\n",
    "# There are more functions related to file:\n",
    "# https://uproot.readthedocs.io/en/latest/uproot.reading.ReadOnlyFile.html\n",
    "\n",
    "# Root directories:\n",
    "# https://uproot.readthedocs.io/en/latest/uproot.reading.ReadOnlyDirectory.html\n",
    "\n",
    "# To read multiple files at once (aka TChain)\n",
    "# https://uproot.readthedocs.io/en/latest/basic.html#iterating-over-many-files"
   ]
  },
  {
   "cell_type": "code",
   "execution_count": 22,
   "id": "unauthorized-luxury",
   "metadata": {},
   "outputs": [
    {
     "name": "stdout",
     "output_type": "stream",
     "text": [
      "Number of entries: 253\n",
      "name                 | typename                 | interpretation                \n",
      "---------------------+--------------------------+-------------------------------\n",
      "event_id             | uint64_t                 | AsDtype('>u8')\n",
      "evt_true_q2          | double                   | AsDtype('>f8')\n",
      "evt_true_x           | double                   | AsDtype('>f8')\n",
      "evt_true_y           | double                   | AsDtype('>f8')\n",
      "evt_true_w2          | double                   | AsDtype('>f8')\n",
      "evt_true_nu          | double                   | AsDtype('>f8')\n",
      "evt_true_t_hat       | double                   | AsDtype('>f8')\n",
      "evt_has_dis_info     | int8_t                   | AsDtype('int8')\n",
      "evt_weight           | double                   | AsDtype('>f8')\n",
      "hit_count            | uint64_t                 | AsDtype('>u8')\n",
      "hit_id               | std::vector<uint64_t>    | AsJagged(AsDtype('>u8'), he...\n",
      "hit_trk_id           | std::vector<uint64_t>    | AsJagged(AsDtype('>u8'), he...\n",
      "hit_ptr_id           | std::vector<uint64_t>    | AsJagged(AsDtype('>u8'), he...\n",
      "hit_parent_trk_id    | std::vector<uint64_t>    | AsJagged(AsDtype('>u8'), he...\n",
      "hit_vol_name         | std::vector<std::string> | AsObjects(AsVector(True, As...\n",
      "hit_x                | std::vector<double>      | AsJagged(AsDtype('>f8'), he...\n",
      "hit_y                | std::vector<double>      | AsJagged(AsDtype('>f8'), he...\n",
      "hit_z                | std::vector<double>      | AsJagged(AsDtype('>f8'), he...\n",
      "hit_i_rep            | std::vector<uint64_t>    | AsJagged(AsDtype('>u8'), he...\n",
      "hit_j_rep            | std::vector<uint64_t>    | AsJagged(AsDtype('>u8'), he...\n",
      "hit_e_loss           | std::vector<double>      | AsJagged(AsDtype('>f8'), he...\n",
      "trk_count            | uint64_t                 | AsDtype('>u8')\n",
      "trk_id               | std::vector<uint64_t>    | AsJagged(AsDtype('>u8'), he...\n",
      "trk_pdg              | std::vector<int64_t>     | AsJagged(AsDtype('>i8'), he...\n",
      "trk_parent_id        | std::vector<uint64_t>    | AsJagged(AsDtype('>u8'), he...\n",
      "trk_create_proc      | std::vector<int64_t>     | AsJagged(AsDtype('>i8'), he...\n",
      "trk_level            | std::vector<uint64_t>    | AsJagged(AsDtype('>u8'), he...\n",
      "trk_vtx_x            | std::vector<double>      | AsJagged(AsDtype('>f8'), he...\n",
      "trk_vtx_y            | std::vector<double>      | AsJagged(AsDtype('>f8'), he...\n",
      "trk_vtx_z            | std::vector<double>      | AsJagged(AsDtype('>f8'), he...\n",
      "trk_vtx_dir_x        | std::vector<double>      | AsJagged(AsDtype('>f8'), he...\n",
      "trk_vtx_dir_y        | std::vector<double>      | AsJagged(AsDtype('>f8'), he...\n",
      "trk_vtx_dir_z        | std::vector<double>      | AsJagged(AsDtype('>f8'), he...\n",
      "trk_mom              | std::vector<double>      | AsJagged(AsDtype('>f8'), he...\n",
      "gen_prt_count        | uint64_t                 | AsDtype('>u8')\n",
      "gen_prt_id           | std::vector<uint64_t>    | AsJagged(AsDtype('>u8'), he...\n",
      "gen_prt_vtx_id       | std::vector<uint64_t>    | AsJagged(AsDtype('>u8'), he...\n",
      "gen_prt_pdg          | std::vector<uint64_t>    | AsJagged(AsDtype('>u8'), he...\n",
      "gen_prt_trk_id       | std::vector<uint64_t>    | AsJagged(AsDtype('>u8'), he...\n",
      "gen_prt_charge       | std::vector<double>      | AsJagged(AsDtype('>f8'), he...\n",
      "gen_prt_dir_x        | std::vector<double>      | AsJagged(AsDtype('>f8'), he...\n",
      "gen_prt_dir_y        | std::vector<double>      | AsJagged(AsDtype('>f8'), he...\n",
      "gen_prt_dir_z        | std::vector<double>      | AsJagged(AsDtype('>f8'), he...\n",
      "gen_prt_tot_mom      | std::vector<double>      | AsJagged(AsDtype('>f8'), he...\n",
      "gen_prt_tot_e        | std::vector<double>      | AsJagged(AsDtype('>f8'), he...\n",
      "gen_prt_time         | std::vector<double>      | AsJagged(AsDtype('>f8'), he...\n",
      "gen_prt_polariz_x    | std::vector<double>      | AsJagged(AsDtype('>f8'), he...\n",
      "gen_prt_polariz_y    | std::vector<double>      | AsJagged(AsDtype('>f8'), he...\n",
      "gen_prt_polariz_z    | std::vector<double>      | AsJagged(AsDtype('>f8'), he...\n",
      "gen_vtx_count        | uint64_t                 | AsDtype('>u8')\n",
      "gen_vtx_id           | std::vector<uint64_t>    | AsJagged(AsDtype('>u8'), he...\n",
      "gen_vtx_part_count   | std::vector<uint64_t>    | AsJagged(AsDtype('>u8'), he...\n",
      "gen_vtx_x            | std::vector<double>      | AsJagged(AsDtype('>f8'), he...\n",
      "gen_vtx_y            | std::vector<double>      | AsJagged(AsDtype('>f8'), he...\n",
      "gen_vtx_z            | std::vector<double>      | AsJagged(AsDtype('>f8'), he...\n",
      "gen_vtx_time         | std::vector<double>      | AsJagged(AsDtype('>f8'), he...\n",
      "gen_vtx_weight       | std::vector<double>      | AsJagged(AsDtype('>f8'), he...\n",
      "ce_emcal_name        | std::vector<std::string> | AsObjects(AsVector(True, As...\n",
      "ce_emcal_Etot_dep    | std::vector<double>      | AsJagged(AsDtype('>f8'), he...\n",
      "ce_emcal_Npe         | std::vector<int32_t>     | AsJagged(AsDtype('>i4'), he...\n",
      "ce_emcal_ADC         | std::vector<double>      | AsJagged(AsDtype('>f8'), he...\n",
      "ce_emcal_TDC         | std::vector<double>      | AsJagged(AsDtype('>f8'), he...\n",
      "ce_emcal_xcrs        | std::vector<double>      | AsJagged(AsDtype('>f8'), he...\n",
      "ce_emcal_ycrs        | std::vector<double>      | AsJagged(AsDtype('>f8'), he...\n",
      "ce_emcal_zcrs        | std::vector<double>      | AsJagged(AsDtype('>f8'), he...\n"
     ]
    }
   ],
   "source": [
    "# File has a data tree called 'events'\n",
    "# get events tree as a separate thing\n",
    "tree = file[\"events\"]\n",
    "\n",
    "# Print number of entries\n",
    "print(f\"Number of entries: {tree.num_entries}\")\n",
    "\n",
    "#Uncomment this to see all values:\n",
    "tree.show()\n",
    "\n",
    "\n",
    "# More TBranch functions:\n",
    "#https://uproot.readthedocs.io/en/latest/uproot.behaviors.TBranch.TBranch.html"
   ]
  },
  {
   "cell_type": "code",
   "execution_count": 77,
   "id": "forward-edition",
   "metadata": {},
   "outputs": [],
   "source": [
    "# To load WHOLE data from a branch as an array:\n",
    "hit_id = tree['hit_id'].array()\n",
    "hit_x = tree['hit_x'].array()\n",
    "hit_y = tree['hit_y'].array()\n",
    "hit_z = tree['hit_z'].array()\n",
    "hit_vol = tree['hit_vol_name'].array()\n",
    "\n",
    "\n",
    "\n",
    "# library=np to return/convert array as a numpy library.\n",
    "\n",
    "# print(hit_xyz)\n",
    "# print(f\"There are total: {len(hit_xyz['hit_x'])} hits records\")\n",
    "\n",
    "# 261\n",
    "# [[...],[...], .... ]\n",
    "iter=0\n",
    "\n",
    "    \n"
   ]
  },
  {
   "cell_type": "code",
   "execution_count": 79,
   "id": "regulated-composite",
   "metadata": {},
   "outputs": [
    {
     "name": "stdout",
     "output_type": "stream",
     "text": [
      "[90, 92, 300, 194, 152, 238, 183, 313, ... 174, 106, 135, 169, 160, 215, 277, 155]\n",
      "[90, 92, 300, 194, 152, 238, 183, 313, ... 174, 106, 135, 169, 160, 215, 277, 155]\n",
      "[90, 92, 300, 194, 152, 238, 183, 313, ... 174, 106, 135, 169, 160, 215, 277, 155]\n"
     ]
    }
   ],
   "source": [
    "\n",
    "#for i in tree[\"hit_vol_name\"].array():\n",
    "    #print(i)\n",
    "print(ak.num(hit_id))\n",
    "print(ak.num(hit_z))\n",
    "print(ak.num(hit_vol))"
   ]
  },
  {
   "cell_type": "code",
   "execution_count": 83,
   "id": "laden-exhibition",
   "metadata": {},
   "outputs": [
    {
     "data": {
      "text/plain": [
       "<Array [90, 92, 300, 194, ... 215, 277, 155] type='253 * int64'>"
      ]
     },
     "execution_count": 83,
     "metadata": {},
     "output_type": "execute_result"
    }
   ],
   "source": [
    "hit_zcb=hit_z.mask[hit_vol=='cb_EMCAL_GVol_Phys']\n",
    "hit_xcb=hit_x.mask[hit_vol=='cb_EMCAL_GVol_Phys']\n",
    "hit_ycb=hit_y.mask[hit_vol=='cb_EMCAL_GVol_Phys']\n",
    "\n",
    "ak.num(hittry)"
   ]
  },
  {
   "cell_type": "code",
   "execution_count": 84,
   "id": "enclosed-delta",
   "metadata": {},
   "outputs": [
    {
     "data": {
      "text/plain": [
       "ColormeshArtists(pcolormesh=<matplotlib.collections.QuadMesh object at 0x7fbf39e09a30>, cbar=<matplotlib.colorbar.Colorbar object at 0x7fbf39df0ac0>)"
      ]
     },
     "execution_count": 84,
     "metadata": {},
     "output_type": "execute_result"
    },
    {
     "data": {
      "image/png": "[encoded data removed]",
      "text/plain": [
       "<Figure size 462.24x288 with 2 Axes>"
      ]
     },
     "metadata": {
      "needs_background": "light"
     },
     "output_type": "display_data"
    }
   ],
   "source": [
    "h = Hist(\n",
    "    hist.axis.Regular(50, -250, 250, name=\"X\", label=\"x [cm]\", flow=False),\n",
    "    hist.axis.Regular(50, -250, 250, name=\"Y\", label=\"y [cm]\", flow=False),\n",
    ")\n",
    "\n",
    "h.fill(ak.to_numpy(ak.flatten(hit_xcb/10)),\n",
    "       ak.to_numpy(ak.flatten(hit_ycb/10)))\n",
    "h.plot()"
   ]
  },
  {
   "cell_type": "code",
   "execution_count": 89,
   "id": "systematic-serve",
   "metadata": {},
   "outputs": [],
   "source": [
    "hit_zci=hit_z.mask[hit_vol=='ffi_ZDC']\n",
    "hit_xci=hit_x.mask[hit_vol=='ffi_ZDC']\n",
    "hit_yci=hit_y.mask[hit_vol=='ffi_ZDC']"
   ]
  },
  {
   "cell_type": "code",
   "execution_count": 90,
   "id": "anticipated-charter",
   "metadata": {},
   "outputs": [
    {
     "data": {
      "text/plain": [
       "ColormeshArtists(pcolormesh=<matplotlib.collections.QuadMesh object at 0x7fbf39b9c040>, cbar=<matplotlib.colorbar.Colorbar object at 0x7fbf39b9c430>)"
      ]
     },
     "execution_count": 90,
     "metadata": {},
     "output_type": "execute_result"
    },
    {
     "data": {
      "image/png": "[encoded data removed]",
      "text/plain": [
       "<Figure size 462.24x288 with 2 Axes>"
      ]
     },
     "metadata": {
      "needs_background": "light"
     },
     "output_type": "display_data"
    }
   ],
   "source": [
    "h = Hist(\n",
    "    hist.axis.Regular(50, -50, 50, name=\"X\", label=\"x [cm]\", flow=False),\n",
    "    hist.axis.Regular(50, -50, 50, name=\"Y\", label=\"y [cm]\", flow=False),\n",
    ")\n",
    "\n",
    "h.fill(ak.to_numpy(ak.flatten(hit_xci/10)),\n",
    "       ak.to_numpy(ak.flatten(hit_yci/10)))\n",
    "h.plot()"
   ]
  },
  {
   "cell_type": "code",
   "execution_count": null,
   "id": "excited-laugh",
   "metadata": {},
   "outputs": [],
   "source": []
  }
 ],
 "metadata": {
  "kernelspec": {
   "display_name": "Python 3",
   "language": "python",
   "name": "python3"
  },
  "language_info": {
   "codemirror_mode": {
    "name": "ipython",
    "version": 3
   },
   "file_extension": ".py",
   "mimetype": "text/x-python",
   "name": "python",
   "nbconvert_exporter": "python",
   "pygments_lexer": "ipython3",
   "version": "3.8.5"
  }
 },
 "nbformat": 4,
 "nbformat_minor": 5
}
