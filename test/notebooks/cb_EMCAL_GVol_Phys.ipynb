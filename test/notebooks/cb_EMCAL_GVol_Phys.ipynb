{
 "cells": [
  {
   "cell_type": "code",
   "execution_count": 22,
   "id": "indonesian-sperm",
   "metadata": {},
   "outputs": [],
   "source": [
    "import uproot4\n",
    "from matplotlib import pyplot as p\n",
    "from hist import Hist\n",
    "import hist\n",
    "import awkward1 as ak\n",
    "import numpy as np\n",
    "import matplotlib.pyplot as plt\n",
    "from matplotlib.gridspec import GridSpec\n",
    "import matplotlib.image as mpimg\n",
    "\n",
    "# Pretty printing arrays\n",
    "from pprint import pprint"
   ]
  },
  {
   "cell_type": "code",
   "execution_count": 23,
   "id": "attended-induction",
   "metadata": {},
   "outputs": [
    {
     "name": "stdout",
     "output_type": "stream",
     "text": [
      "/home/pipi/newyr/g4e/g4e-dev/examples\n"
     ]
    }
   ],
   "source": [
    "cd /home/pipi/newyr/g4e/g4e-dev/examples"
   ]
  },
  {
   "cell_type": "code",
   "execution_count": 24,
   "id": "laden-liquid",
   "metadata": {},
   "outputs": [
    {
     "name": "stdout",
     "output_type": "stream",
     "text": [
      "add_subdetector.py          g4e_output.root\r\n",
      "beagle.mac                  g4e_simulation.py\r\n",
      "blah                        hello_world_g4e.py\r\n",
      "blehhh.pdf                  herwig.mac\r\n",
      "build_g4e.py                my_root_instead_of_simple_run.bgn.rndm\r\n",
      "check_overlaps.py           my_root_instead_of_simple_run.end.rndm\r\n",
      "cone_particle_gun.bgn.rndm  my_root_instead_of_simple_run.geo.gdml\r\n",
      "cone_particle_gun.end.rndm  my_root_instead_of_simple_run.geo.root\r\n",
      "cone_particle_gun.geo.gdml  my_root_instead_of_simple_run.root\r\n",
      "cone_particle_gun.geo.root  my_root_instead_of_simple_run.run.json\r\n",
      "cone_particle_gun.mac       my_root_instead_of_simple_run.run.mac\r\n",
      "cone_particle_gun.py        pythia.mac\r\n",
      "cone_particle_gun.root      simple_run_jleic.py\r\n",
      "cone_particle_gun.run.json  simple_run.py\r\n",
      "cone_particle_gun.run.mac   test_run.bgn.rndm\r\n",
      "cone_particle_gun_vis.py    test_run.end.rndm\r\n",
      "event_display.bgn.rndm      test_run.geo.gdml\r\n",
      "event_display.geo.gdml      test_run.geo.root\r\n",
      "event_display.geo.root      test_run.root\r\n",
      "event_display.py            test_run.run.json\r\n",
      "event_display.root          test_run.run.mac\r\n",
      "event_display.run.json      vis.bgn.rndm\r\n",
      "event_display.run.mac       vis.geo.gdml\r\n",
      "g4e_emcal_vis.py            vis.geo.root\r\n",
      "g4e_output.bgn.rndm         vis_new.mac\r\n",
      "g4e_output.end.rndm         vis.root\r\n",
      "g4e_output.geo.gdml         vis.run.json\r\n",
      "g4e_output.geo.root         vis.run.mac\r\n"
     ]
    }
   ],
   "source": [
    "ls"
   ]
  },
  {
   "cell_type": "code",
   "execution_count": 25,
   "id": "signal-reconstruction",
   "metadata": {},
   "outputs": [
    {
     "data": {
      "text/plain": [
       "[('events;5', <TTree 'events' (65 branches) at 0x7fb0596cea30>),\n",
       " ('events;4', <TTree 'events' (65 branches) at 0x7fb0f1046250>)]"
      ]
     },
     "execution_count": 25,
     "metadata": {},
     "output_type": "execute_result"
    }
   ],
   "source": [
    "file=uproot4.open(\"my_root_instead_of_simple_run.root\")\n",
    "\n",
    "# To see all object names in the file:\n",
    "file.items()\n",
    "\n",
    "# only names: file.keys(), file.values()))\n",
    "\n",
    "# To see items in subdirectories\n",
    "# file.keys(recursive=True)\n",
    "\n",
    "# There are more functions related to file:\n",
    "# https://uproot.readthedocs.io/en/latest/uproot.reading.ReadOnlyFile.html\n",
    "\n",
    "# Root directories:\n",
    "# https://uproot.readthedocs.io/en/latest/uproot.reading.ReadOnlyDirectory.html\n",
    "\n",
    "# To read multiple files at once (aka TChain)\n",
    "# https://uproot.readthedocs.io/en/latest/basic.html#iterating-over-many-files"
   ]
  },
  {
   "cell_type": "code",
   "execution_count": 26,
   "id": "unauthorized-luxury",
   "metadata": {},
   "outputs": [
    {
     "name": "stdout",
     "output_type": "stream",
     "text": [
      "Number of entries: 489\n",
      "name                 | typename                 | interpretation                \n",
      "---------------------+--------------------------+-------------------------------\n",
      "event_id             | uint64_t                 | AsDtype('>u8')\n",
      "evt_true_q2          | double                   | AsDtype('>f8')\n",
      "evt_true_x           | double                   | AsDtype('>f8')\n",
      "evt_true_y           | double                   | AsDtype('>f8')\n",
      "evt_true_w2          | double                   | AsDtype('>f8')\n",
      "evt_true_nu          | double                   | AsDtype('>f8')\n",
      "evt_true_t_hat       | double                   | AsDtype('>f8')\n",
      "evt_has_dis_info     | int8_t                   | AsDtype('int8')\n",
      "evt_weight           | double                   | AsDtype('>f8')\n",
      "hit_count            | uint64_t                 | AsDtype('>u8')\n",
      "hit_id               | std::vector<uint64_t>    | AsJagged(AsDtype('>u8'), he...\n",
      "hit_trk_id           | std::vector<uint64_t>    | AsJagged(AsDtype('>u8'), he...\n",
      "hit_ptr_id           | std::vector<uint64_t>    | AsJagged(AsDtype('>u8'), he...\n",
      "hit_parent_trk_id    | std::vector<uint64_t>    | AsJagged(AsDtype('>u8'), he...\n",
      "hit_vol_name         | std::vector<std::string> | AsObjects(AsVector(True, As...\n",
      "hit_x                | std::vector<double>      | AsJagged(AsDtype('>f8'), he...\n",
      "hit_y                | std::vector<double>      | AsJagged(AsDtype('>f8'), he...\n",
      "hit_z                | std::vector<double>      | AsJagged(AsDtype('>f8'), he...\n",
      "hit_i_rep            | std::vector<uint64_t>    | AsJagged(AsDtype('>u8'), he...\n",
      "hit_j_rep            | std::vector<uint64_t>    | AsJagged(AsDtype('>u8'), he...\n",
      "hit_e_loss           | std::vector<double>      | AsJagged(AsDtype('>f8'), he...\n",
      "trk_count            | uint64_t                 | AsDtype('>u8')\n",
      "trk_id               | std::vector<uint64_t>    | AsJagged(AsDtype('>u8'), he...\n",
      "trk_pdg              | std::vector<int64_t>     | AsJagged(AsDtype('>i8'), he...\n",
      "trk_parent_id        | std::vector<uint64_t>    | AsJagged(AsDtype('>u8'), he...\n",
      "trk_create_proc      | std::vector<int64_t>     | AsJagged(AsDtype('>i8'), he...\n",
      "trk_level            | std::vector<uint64_t>    | AsJagged(AsDtype('>u8'), he...\n",
      "trk_vtx_x            | std::vector<double>      | AsJagged(AsDtype('>f8'), he...\n",
      "trk_vtx_y            | std::vector<double>      | AsJagged(AsDtype('>f8'), he...\n",
      "trk_vtx_z            | std::vector<double>      | AsJagged(AsDtype('>f8'), he...\n",
      "trk_vtx_dir_x        | std::vector<double>      | AsJagged(AsDtype('>f8'), he...\n",
      "trk_vtx_dir_y        | std::vector<double>      | AsJagged(AsDtype('>f8'), he...\n",
      "trk_vtx_dir_z        | std::vector<double>      | AsJagged(AsDtype('>f8'), he...\n",
      "trk_mom              | std::vector<double>      | AsJagged(AsDtype('>f8'), he...\n",
      "gen_prt_count        | uint64_t                 | AsDtype('>u8')\n",
      "gen_prt_id           | std::vector<uint64_t>    | AsJagged(AsDtype('>u8'), he...\n",
      "gen_prt_vtx_id       | std::vector<uint64_t>    | AsJagged(AsDtype('>u8'), he...\n",
      "gen_prt_pdg          | std::vector<uint64_t>    | AsJagged(AsDtype('>u8'), he...\n",
      "gen_prt_trk_id       | std::vector<uint64_t>    | AsJagged(AsDtype('>u8'), he...\n",
      "gen_prt_charge       | std::vector<double>      | AsJagged(AsDtype('>f8'), he...\n",
      "gen_prt_dir_x        | std::vector<double>      | AsJagged(AsDtype('>f8'), he...\n",
      "gen_prt_dir_y        | std::vector<double>      | AsJagged(AsDtype('>f8'), he...\n",
      "gen_prt_dir_z        | std::vector<double>      | AsJagged(AsDtype('>f8'), he...\n",
      "gen_prt_tot_mom      | std::vector<double>      | AsJagged(AsDtype('>f8'), he...\n",
      "gen_prt_tot_e        | std::vector<double>      | AsJagged(AsDtype('>f8'), he...\n",
      "gen_prt_time         | std::vector<double>      | AsJagged(AsDtype('>f8'), he...\n",
      "gen_prt_polariz_x    | std::vector<double>      | AsJagged(AsDtype('>f8'), he...\n",
      "gen_prt_polariz_y    | std::vector<double>      | AsJagged(AsDtype('>f8'), he...\n",
      "gen_prt_polariz_z    | std::vector<double>      | AsJagged(AsDtype('>f8'), he...\n",
      "gen_vtx_count        | uint64_t                 | AsDtype('>u8')\n",
      "gen_vtx_id           | std::vector<uint64_t>    | AsJagged(AsDtype('>u8'), he...\n",
      "gen_vtx_part_count   | std::vector<uint64_t>    | AsJagged(AsDtype('>u8'), he...\n",
      "gen_vtx_x            | std::vector<double>      | AsJagged(AsDtype('>f8'), he...\n",
      "gen_vtx_y            | std::vector<double>      | AsJagged(AsDtype('>f8'), he...\n",
      "gen_vtx_z            | std::vector<double>      | AsJagged(AsDtype('>f8'), he...\n",
      "gen_vtx_time         | std::vector<double>      | AsJagged(AsDtype('>f8'), he...\n",
      "gen_vtx_weight       | std::vector<double>      | AsJagged(AsDtype('>f8'), he...\n",
      "ce_emcal_name        | std::vector<std::string> | AsObjects(AsVector(True, As...\n",
      "ce_emcal_Etot_dep    | std::vector<double>      | AsJagged(AsDtype('>f8'), he...\n",
      "ce_emcal_Npe         | std::vector<int32_t>     | AsJagged(AsDtype('>i4'), he...\n",
      "ce_emcal_ADC         | std::vector<double>      | AsJagged(AsDtype('>f8'), he...\n",
      "ce_emcal_TDC         | std::vector<double>      | AsJagged(AsDtype('>f8'), he...\n",
      "ce_emcal_xcrs        | std::vector<double>      | AsJagged(AsDtype('>f8'), he...\n",
      "ce_emcal_ycrs        | std::vector<double>      | AsJagged(AsDtype('>f8'), he...\n",
      "ce_emcal_zcrs        | std::vector<double>      | AsJagged(AsDtype('>f8'), he...\n"
     ]
    }
   ],
   "source": [
    "# File has a data tree called 'events'\n",
    "# get events tree as a separate thing\n",
    "tree = file[\"events\"]\n",
    "\n",
    "# Print number of entries\n",
    "print(f\"Number of entries: {tree.num_entries}\")\n",
    "\n",
    "#Uncomment this to see all values:\n",
    "tree.show()\n",
    "\n",
    "\n",
    "# More TBranch functions:\n",
    "#https://uproot.readthedocs.io/en/latest/uproot.behaviors.TBranch.TBranch.html"
   ]
  },
  {
   "cell_type": "code",
   "execution_count": 27,
   "id": "forward-edition",
   "metadata": {},
   "outputs": [
    {
     "data": {
      "text/plain": [
       "\"for i in hit_vol:\\n    for j in i:\\n        if j[0]=='c':\\n            print(j)\""
      ]
     },
     "execution_count": 27,
     "metadata": {},
     "output_type": "execute_result"
    }
   ],
   "source": [
    "# To load WHOLE data from a branch as an array:\n",
    "hit_id = tree['hit_id'].array()\n",
    "hit_x = tree['hit_x'].array()\n",
    "hit_y = tree['hit_y'].array()\n",
    "\n",
    "\n",
    "\n",
    "\n",
    "# library=np to return/convert array as a numpy library.\n",
    "\n",
    "# print(hit_xyz)\n",
    "# print(f\"There are total: {len(hit_xyz['hit_x'])} hits records\")\n",
    "\n",
    "# 261\n",
    "# [[...],[...], .... ]\n",
    "#counting\n",
    "'''for i in hit_vol:\n",
    "    for j in i:\n",
    "        if j[0]=='c':\n",
    "            print(j)'''\n",
    "    \n"
   ]
  },
  {
   "cell_type": "code",
   "execution_count": 28,
   "id": "lonely-edgar",
   "metadata": {},
   "outputs": [],
   "source": [
    "hit_z = tree['hit_z'].array()\n",
    "hit_vol = tree['hit_vol_name'].array()"
   ]
  },
  {
   "cell_type": "code",
   "execution_count": 8,
   "id": "floating-productivity",
   "metadata": {},
   "outputs": [
    {
     "name": "stdout",
     "output_type": "stream",
     "text": [
      "ffi_ZDC_GVol_Phys\n",
      "ffi_ZDC_GVol_Phys\n",
      "ffi_ZDC_GVol_Phys\n",
      "ffi_ZDC_GVol_Phys\n",
      "ffi_ZDC_GVol_Phys\n",
      "ffi_ZDC_GVol_Phys\n",
      "ffi_ZDC_GVol_Phys\n",
      "ffi_ZDC_GVol_Phys\n",
      "ffi_ZDC_GVol_Phys\n",
      "ffi_ZDC_GVol_Phys\n",
      "ffi_ZDC_GVol_Phys\n",
      "ffi_ZDC_GVol_Phys\n",
      "ffi_ZDC_GVol_Phys\n",
      "ffi_ZDC_GVol_Phys\n",
      "ffi_ZDC_GVol_Phys\n",
      "ffi_ZDC_GVol_Phys\n",
      "ffi_ZDC_GVol_Phys\n",
      "ffi_ZDC_GVol_Phys\n",
      "ffi_ZDC_GVol_Phys\n",
      "ffi_ZDC_GVol_Phys\n",
      "ffi_ZDC_GVol_Phys\n",
      "ffi_ZDC_GVol_Phys\n",
      "ffi_ZDC_GVol_Phys\n",
      "ffi_ZDC_GVol_Phys\n",
      "ffi_ZDC_GVol_Phys\n"
     ]
    }
   ],
   "source": [
    "for i in hit_vol:\n",
    "    for j in i:\n",
    "        if j[:len('ffi_ZDC')]=='ffi_ZDC':\n",
    "            print(j)"
   ]
  },
  {
   "cell_type": "code",
   "execution_count": 29,
   "id": "regulated-composite",
   "metadata": {},
   "outputs": [
    {
     "name": "stdout",
     "output_type": "stream",
     "text": [
      "[7043, 3425, 8716, 5627, 7333, 7507, 7208, ... 6788, 7885, 8368, 5358, 5248, 3668]\n",
      "[7043, 3425, 8716, 5627, 7333, 7507, 7208, ... 6788, 7885, 8368, 5358, 5248, 3668]\n",
      "[7043, 3425, 8716, 5627, 7333, 7507, 7208, ... 6788, 7885, 8368, 5358, 5248, 3668]\n"
     ]
    }
   ],
   "source": [
    "\n",
    "#for i in tree[\"hit_vol_name\"].array():\n",
    "    #print(i)\n",
    "print(ak.num(hit_id))\n",
    "print(ak.num(hit_z))\n",
    "print(ak.num(hit_vol))"
   ]
  },
  {
   "cell_type": "code",
   "execution_count": 30,
   "id": "laden-exhibition",
   "metadata": {},
   "outputs": [],
   "source": [
    "hit_zcb=hit_z.mask[hit_vol=='cb_EMCAL_GVol_Phys']\n",
    "hit_xcb=hit_x.mask[hit_vol=='cb_EMCAL_GVol_Phys']\n",
    "hit_ycb=hit_y.mask[hit_vol=='cb_EMCAL_GVol_Phys']\n"
   ]
  },
  {
   "cell_type": "code",
   "execution_count": 31,
   "id": "enclosed-delta",
   "metadata": {},
   "outputs": [
    {
     "data": {
      "text/plain": [
       "ColormeshArtists(pcolormesh=<matplotlib.collections.QuadMesh object at 0x7fb0f0eb1bb0>, cbar=<matplotlib.colorbar.Colorbar object at 0x7fb0f0eb1fa0>)"
      ]
     },
     "execution_count": 31,
     "metadata": {},
     "output_type": "execute_result"
    },
    {
     "data": {
      "image/png": "[encoded data removed]",
      "text/plain": [
       "<Figure size 462.24x288 with 2 Axes>"
      ]
     },
     "metadata": {
      "needs_background": "light"
     },
     "output_type": "display_data"
    }
   ],
   "source": [
    "h_cb = Hist(\n",
    "    hist.axis.Regular(50, -250, 250, name=\"X\", label=\"x [cm]\", flow=False),\n",
    "    hist.axis.Regular(50, -250, 250, name=\"Y\", label=\"y [cm]\", flow=False),\n",
    ")\n",
    "\n",
    "h_cb.fill(ak.to_numpy(ak.flatten(hit_xcb/10)),\n",
    "       ak.to_numpy(ak.flatten(hit_ycb/10)))\n",
    "h_cb.plot()"
   ]
  },
  {
   "cell_type": "code",
   "execution_count": 32,
   "id": "stock-seafood",
   "metadata": {},
   "outputs": [
    {
     "data": {
      "text/plain": [
       "[StepArtists(step=<matplotlib.lines.Line2D object at 0x7fb0596356d0>, errorbar=None, legend_artist=None)]"
      ]
     },
     "execution_count": 32,
     "metadata": {},
     "output_type": "execute_result"
    },
    {
     "data": {
      "image/png": "[encoded data removed]",
      "text/plain": [
       "<Figure size 432x288 with 1 Axes>"
      ]
     },
     "metadata": {
      "needs_background": "light"
     },
     "output_type": "display_data"
    }
   ],
   "source": [
    "z_cb= Hist(\n",
    "    hist.axis.Regular(50, -350, 350, name=\"X\", label=\"x [cm]\", flow=False),)\n",
    "z_cb.fill(ak.to_numpy(ak.flatten(hit_zcb/10)))\n",
    "z_cb.plot()"
   ]
  },
  {
   "cell_type": "code",
   "execution_count": 33,
   "id": "systematic-serve",
   "metadata": {},
   "outputs": [],
   "source": [
    "hit_z_zdc=hit_z.mask[hit_vol[:,:,:len('ci_EMCAL')]=='ci_EMCAL']\n",
    "hit_x_zdc=hit_x.mask[hit_vol[:,:,:len('ci_EMCAL')]=='ci_EMCAL']\n",
    "hit_y_zdc=hit_y.mask[hit_vol[:,:,:len('ci_EMCAL')]=='ci_EMCAL']"
   ]
  },
  {
   "cell_type": "code",
   "execution_count": 34,
   "id": "anticipated-charter",
   "metadata": {},
   "outputs": [
    {
     "data": {
      "text/plain": [
       "[StepArtists(step=<matplotlib.lines.Line2D object at 0x7fb059467340>, errorbar=None, legend_artist=None)]"
      ]
     },
     "execution_count": 34,
     "metadata": {},
     "output_type": "execute_result"
    },
    {
     "data": {
      "image/png": "[encoded data removed]",
      "text/plain": [
       "<Figure size 432x288 with 1 Axes>"
      ]
     },
     "metadata": {
      "needs_background": "light"
     },
     "output_type": "display_data"
    }
   ],
   "source": [
    "z= Hist(\n",
    "    hist.axis.Regular(50, -5000, 5000, name=\"X\", label=\"x [cm]\", flow=False),)\n",
    "z.fill(ak.to_numpy(ak.flatten(hit_z_zdc/10)))\n",
    "z.plot()\n"
   ]
  },
  {
   "cell_type": "code",
   "execution_count": 35,
   "id": "excited-laugh",
   "metadata": {},
   "outputs": [
    {
     "data": {
      "text/plain": [
       "ColormeshArtists(pcolormesh=<matplotlib.collections.QuadMesh object at 0x7fb059578d30>, cbar=<matplotlib.colorbar.Colorbar object at 0x7fb0f0f2c0d0>)"
      ]
     },
     "execution_count": 35,
     "metadata": {},
     "output_type": "execute_result"
    },
    {
     "data": {
      "image/png": "[encoded data removed]",
      "text/plain": [
       "<Figure size 462.24x288 with 2 Axes>"
      ]
     },
     "metadata": {
      "needs_background": "light"
     },
     "output_type": "display_data"
    }
   ],
   "source": [
    "h = Hist(\n",
    "    hist.axis.Regular(100, -5000, 5000, name=\"X\", label=\"x [cm]\", flow=False),\n",
    "    hist.axis.Regular(100, -5000, 5000, name=\"Y\", label=\"y [cm]\", flow=False),\n",
    ")\n",
    "\n",
    "h.fill(ak.to_numpy(ak.flatten(hit_x_zdc/1)),\n",
    "       ak.to_numpy(ak.flatten(hit_y_zdc/1)))\n",
    "h.plot()"
   ]
  },
  {
   "cell_type": "code",
   "execution_count": 75,
   "id": "vital-arnold",
   "metadata": {},
   "outputs": [],
   "source": [
    "hit_z_zdc_trk=hit_z.mask[hit_vol[:,:,:len('ffi_ZDC_GVol_Phys')]=='ffi_ZDC_GVol_Phys']\n",
    "hit_x_zdc_trk=hit_x.mask[hit_vol[:,:,:len('ffi_ZDC_GVol_Phys')]=='ffi_ZDC_GVol_Phys']\n",
    "hit_y_zdc_trk=hit_y.mask[hit_vol[:,:,:len('ffi_ZDC_GVol_Phys')]=='ffi_ZDC_GVol_Phys']"
   ]
  },
  {
   "cell_type": "code",
   "execution_count": 76,
   "id": "accessory-daniel",
   "metadata": {},
   "outputs": [
    {
     "data": {
      "text/plain": [
       "[StepArtists(step=<matplotlib.lines.Line2D object at 0x7fb0f01a3fa0>, errorbar=None, legend_artist=None)]"
      ]
     },
     "execution_count": 76,
     "metadata": {},
     "output_type": "execute_result"
    },
    {
     "data": {
      "image/png": "[encoded data removed]",
      "text/plain": [
       "<Figure size 432x288 with 1 Axes>"
      ]
     },
     "metadata": {
      "needs_background": "light"
     },
     "output_type": "display_data"
    }
   ],
   "source": [
    "z_trk= Hist(\n",
    "    hist.axis.Regular(50, -5000, 5000, name=\"X\", label=\"x [cm]\", flow=False),)\n",
    "z_trk.fill(ak.to_numpy(ak.flatten(hit_z_zdc_trk/10)))\n",
    "z_trk.plot()"
   ]
  },
  {
   "cell_type": "code",
   "execution_count": 78,
   "id": "crazy-interval",
   "metadata": {},
   "outputs": [
    {
     "data": {
      "text/plain": [
       "ColormeshArtists(pcolormesh=<matplotlib.collections.QuadMesh object at 0x7fb0a5ccf1f0>, cbar=<matplotlib.colorbar.Colorbar object at 0x7fb0a5ccf5e0>)"
      ]
     },
     "execution_count": 78,
     "metadata": {},
     "output_type": "execute_result"
    },
    {
     "data": {
      "image/png": "[encoded data removed]",
      "text/plain": [
       "<Figure size 462.24x288 with 2 Axes>"
      ]
     },
     "metadata": {
      "needs_background": "light"
     },
     "output_type": "display_data"
    }
   ],
   "source": [
    "h_trk = Hist(\n",
    "    hist.axis.Regular(100, -5000, 5000, name=\"X\", label=\"x [cm]\", flow=False),\n",
    "    hist.axis.Regular(100, -5000, 5000, name=\"Y\", label=\"y [cm]\", flow=False),\n",
    ")\n",
    "\n",
    "h_trk.fill(ak.to_numpy(ak.flatten(hit_x_zdc_trk/1)),\n",
    "       ak.to_numpy(ak.flatten(hit_y_zdc_trk/1)))\n",
    "h_trk.plot()"
   ]
  },
  {
   "cell_type": "code",
   "execution_count": 81,
   "id": "retired-heater",
   "metadata": {},
   "outputs": [],
   "source": [
    "hit_z_offm_trk=hit_z.mask[hit_vol[:,:,:len('ffi__OFFM_TRK')]=='ffi__OFFM_TRK']\n",
    "hit_x_offm_trk=hit_x.mask[hit_vol[:,:,:len('ffi__OFFM_TRK')]=='ffi__OFFM_TRK']\n",
    "hit_y_offm_trk=hit_y.mask[hit_vol[:,:,:len('ffi__OFFM_TRK')]=='ffi__OFFM_TRK']"
   ]
  },
  {
   "cell_type": "code",
   "execution_count": 82,
   "id": "approved-export",
   "metadata": {},
   "outputs": [
    {
     "data": {
      "text/plain": [
       "[StepArtists(step=<matplotlib.lines.Line2D object at 0x7fb0a5bc7d90>, errorbar=None, legend_artist=None)]"
      ]
     },
     "execution_count": 82,
     "metadata": {},
     "output_type": "execute_result"
    },
    {
     "data": {
      "image/png": "[encoded data removed]",
      "text/plain": [
       "<Figure size 432x288 with 1 Axes>"
      ]
     },
     "metadata": {
      "needs_background": "light"
     },
     "output_type": "display_data"
    }
   ],
   "source": [
    "z_OFFM= Hist(\n",
    "    hist.axis.Regular(50, -10000, 10000, name=\"X\", label=\"x [cm]\", flow=False),)\n",
    "z_OFFM.fill(ak.to_numpy(ak.flatten(hit_z_offm_trk/10)))\n",
    "z_OFFM.plot()"
   ]
  },
  {
   "cell_type": "code",
   "execution_count": 83,
   "id": "selected-packaging",
   "metadata": {},
   "outputs": [
    {
     "data": {
      "text/plain": [
       "ColormeshArtists(pcolormesh=<matplotlib.collections.QuadMesh object at 0x7fb0a5ba9430>, cbar=<matplotlib.colorbar.Colorbar object at 0x7fb0a5ba9820>)"
      ]
     },
     "execution_count": 83,
     "metadata": {},
     "output_type": "execute_result"
    },
    {
     "data": {
      "image/png": "[encoded data removed]",
      "text/plain": [
       "<Figure size 462.24x288 with 2 Axes>"
      ]
     },
     "metadata": {
      "needs_background": "light"
     },
     "output_type": "display_data"
    }
   ],
   "source": [
    "h_offm = Hist(\n",
    "    hist.axis.Regular(100, -250, 250, name=\"X\", label=\"x [cm]\", flow=False),\n",
    "    hist.axis.Regular(100, -250, 250, name=\"Y\", label=\"y [cm]\", flow=False),\n",
    ")\n",
    "\n",
    "h_offm.fill(ak.to_numpy(ak.flatten(hit_x_offm_trk/1)),\n",
    "       ak.to_numpy(ak.flatten(hit_y_offm_trk/1)))\n",
    "h_offm.plot()"
   ]
  },
  {
   "cell_type": "code",
   "execution_count": 63,
   "id": "eight-stuart",
   "metadata": {},
   "outputs": [],
   "source": [
    "hit_z_offm2_trk=hit_z.mask[hit_vol[:,:,:len('ffi_OFFM_TRK2')]=='ffi_OFFM_TRK2']\n",
    "hit_x_offm2_trk=hit_x.mask[hit_vol[:,:,:len('ffi_OFFM_TRK2')]=='ffi_OFFM_TRK2']\n",
    "hit_y_offm2_trk=hit_y.mask[hit_vol[:,:,:len('ffi_OFFM_TRK2')]=='ffi_OFFM_TRK2']"
   ]
  },
  {
   "cell_type": "code",
   "execution_count": 64,
   "id": "charitable-eleven",
   "metadata": {},
   "outputs": [
    {
     "data": {
      "text/plain": [
       "[StepArtists(step=<matplotlib.lines.Line2D object at 0x7fb0f0567d60>, errorbar=None, legend_artist=None)]"
      ]
     },
     "execution_count": 64,
     "metadata": {},
     "output_type": "execute_result"
    },
    {
     "data": {
      "image/png": "[encoded data removed]",
      "text/plain": [
       "<Figure size 432x288 with 1 Axes>"
      ]
     },
     "metadata": {
      "needs_background": "light"
     },
     "output_type": "display_data"
    }
   ],
   "source": [
    "z_OFFM2= Hist(\n",
    "    hist.axis.Regular(50, -5000, 5000, name=\"X\", label=\"x [cm]\", flow=False),)\n",
    "z_OFFM2.fill(ak.to_numpy(ak.flatten(hit_z_offm2_trk/10)))\n",
    "z_OFFM2.plot()"
   ]
  },
  {
   "cell_type": "code",
   "execution_count": 65,
   "id": "printable-drunk",
   "metadata": {},
   "outputs": [
    {
     "data": {
      "text/plain": [
       "ColormeshArtists(pcolormesh=<matplotlib.collections.QuadMesh object at 0x7fb0f05405e0>, cbar=<matplotlib.colorbar.Colorbar object at 0x7fb0f0540730>)"
      ]
     },
     "execution_count": 65,
     "metadata": {},
     "output_type": "execute_result"
    },
    {
     "data": {
      "image/png": "[encoded data removed]",
      "text/plain": [
       "<Figure size 462.24x288 with 2 Axes>"
      ]
     },
     "metadata": {
      "needs_background": "light"
     },
     "output_type": "display_data"
    }
   ],
   "source": [
    "h_offm2 = Hist(\n",
    "    hist.axis.Regular(100, -400, 400, name=\"X\", label=\"x [cm]\", flow=False),\n",
    "    hist.axis.Regular(100, -400, 400, name=\"Y\", label=\"y [cm]\", flow=False),\n",
    ")\n",
    "\n",
    "h_offm2.fill(ak.to_numpy(ak.flatten(hit_x_offm2_trk/1)),\n",
    "       ak.to_numpy(ak.flatten(hit_y_offm2_trk/1)))\n",
    "h_offm2.plot()"
   ]
  },
  {
   "cell_type": "code",
   "execution_count": 51,
   "id": "arranged-workstation",
   "metadata": {},
   "outputs": [
    {
     "ename": "NameError",
     "evalue": "name 'trk_id' is not defined",
     "output_type": "error",
     "traceback": [
      "\u001b[0;31m---------------------------------------------------------------------------\u001b[0m",
      "\u001b[0;31mNameError\u001b[0m                                 Traceback (most recent call last)",
      "\u001b[0;32m<ipython-input-51-fe008789675c>\u001b[0m in \u001b[0;36m<module>\u001b[0;34m\u001b[0m\n\u001b[0;32m----> 1\u001b[0;31m \u001b[0;32mfor\u001b[0m \u001b[0mi\u001b[0m \u001b[0;32min\u001b[0m \u001b[0mtrk_id\u001b[0m\u001b[0;34m:\u001b[0m\u001b[0;34m\u001b[0m\u001b[0;34m\u001b[0m\u001b[0m\n\u001b[0m\u001b[1;32m      2\u001b[0m     \u001b[0;32mfor\u001b[0m \u001b[0mj\u001b[0m \u001b[0;32min\u001b[0m \u001b[0mi\u001b[0m\u001b[0;34m:\u001b[0m\u001b[0;34m\u001b[0m\u001b[0;34m\u001b[0m\u001b[0m\n\u001b[1;32m      3\u001b[0m         \u001b[0;32mif\u001b[0m \u001b[0mj\u001b[0m\u001b[0;34m[\u001b[0m\u001b[0;34m:\u001b[0m\u001b[0mlen\u001b[0m\u001b[0;34m(\u001b[0m\u001b[0;34m'ffi_ZDC'\u001b[0m\u001b[0;34m)\u001b[0m\u001b[0;34m]\u001b[0m\u001b[0;34m==\u001b[0m\u001b[0;34m'ffi_ZDC'\u001b[0m\u001b[0;34m:\u001b[0m\u001b[0;34m\u001b[0m\u001b[0;34m\u001b[0m\u001b[0m\n\u001b[1;32m      4\u001b[0m             \u001b[0mprint\u001b[0m\u001b[0;34m(\u001b[0m\u001b[0mj\u001b[0m\u001b[0;34m)\u001b[0m\u001b[0;34m\u001b[0m\u001b[0;34m\u001b[0m\u001b[0m\n",
      "\u001b[0;31mNameError\u001b[0m: name 'trk_id' is not defined"
     ]
    }
   ],
   "source": [
    "for i in trk_id:\n",
    "    for j in i:\n",
    "        if j[:len('ffi_ZDC')]=='ffi_ZDC':\n",
    "            print(j)"
   ]
  },
  {
   "cell_type": "code",
   "execution_count": 84,
   "id": "parallel-lexington",
   "metadata": {},
   "outputs": [],
   "source": [
    "hit_z_prot_trk=hit_z.mask[hit_vol[:,:,:len('ffi_PROT_D2')]=='ffi_PROT_D2']\n",
    "hit_x_prot_trk=hit_x.mask[hit_vol[:,:,:len('ffi_PROT_D2')]=='ffi_PROT_D2']\n",
    "hit_y_prot_trk=hit_y.mask[hit_vol[:,:,:len('ffi_PROT_D2')]=='ffi_PROT_D2']"
   ]
  },
  {
   "cell_type": "code",
   "execution_count": 85,
   "id": "relevant-dealing",
   "metadata": {},
   "outputs": [
    {
     "data": {
      "text/plain": [
       "[StepArtists(step=<matplotlib.lines.Line2D object at 0x7fb0a5ace7f0>, errorbar=None, legend_artist=None)]"
      ]
     },
     "execution_count": 85,
     "metadata": {},
     "output_type": "execute_result"
    },
    {
     "data": {
      "image/png": "[encoded data removed]",
      "text/plain": [
       "<Figure size 432x288 with 1 Axes>"
      ]
     },
     "metadata": {
      "needs_background": "light"
     },
     "output_type": "display_data"
    }
   ],
   "source": [
    "z_OFFM2= Hist(\n",
    "    hist.axis.Regular(50, -5000, 5000, name=\"X\", label=\"x [cm]\", flow=False),)\n",
    "z_OFFM2.fill(ak.to_numpy(ak.flatten(hit_z_prot_trk/10)))\n",
    "z_OFFM2.plot()"
   ]
  },
  {
   "cell_type": "code",
   "execution_count": 86,
   "id": "analyzed-unknown",
   "metadata": {},
   "outputs": [
    {
     "data": {
      "text/plain": [
       "ColormeshArtists(pcolormesh=<matplotlib.collections.QuadMesh object at 0x7fb0a5aa9040>, cbar=<matplotlib.colorbar.Colorbar object at 0x7fb0a5aa93d0>)"
      ]
     },
     "execution_count": 86,
     "metadata": {},
     "output_type": "execute_result"
    },
    {
     "data": {
      "image/png": "[encoded data removed]",
      "text/plain": [
       "<Figure size 462.24x288 with 2 Axes>"
      ]
     },
     "metadata": {
      "needs_background": "light"
     },
     "output_type": "display_data"
    }
   ],
   "source": [
    "h_offm2 = Hist(\n",
    "    hist.axis.Regular(100, -250, 250, name=\"X\", label=\"x [cm]\", flow=False),\n",
    "    hist.axis.Regular(100, -250, 250, name=\"Y\", label=\"y [cm]\", flow=False),\n",
    ")\n",
    "\n",
    "h_offm2.fill(ak.to_numpy(ak.flatten(hit_x_prot_trk/1)),\n",
    "       ak.to_numpy(ak.flatten(hit_y_prot_trk/1)))\n",
    "h_offm2.plot()"
   ]
  },
  {
   "cell_type": "code",
   "execution_count": null,
   "id": "distinguished-spyware",
   "metadata": {},
   "outputs": [],
   "source": []
  }
 ],
 "metadata": {
  "kernelspec": {
   "display_name": "Python 3",
   "language": "python",
   "name": "python3"
  },
  "language_info": {
   "codemirror_mode": {
    "name": "ipython",
    "version": 3
   },
   "file_extension": ".py",
   "mimetype": "text/x-python",
   "name": "python",
   "nbconvert_exporter": "python",
   "pygments_lexer": "ipython3",
   "version": "3.8.5"
  }
 },
 "nbformat": 4,
 "nbformat_minor": 5
}
