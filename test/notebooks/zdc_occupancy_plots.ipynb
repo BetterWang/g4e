{
 "cells": [
  {
   "cell_type": "code",
   "execution_count": 1,
   "id": "connected-softball",
   "metadata": {},
   "outputs": [],
   "source": [
    "import uproot4\n",
    "from matplotlib import pyplot as p\n",
    "from hist import Hist\n",
    "import hist\n",
    "import awkward1 as ak\n",
    "import numpy as np\n",
    "import matplotlib.pyplot as plt\n",
    "from matplotlib.gridspec import GridSpec\n",
    "import matplotlib.image as mpimg\n",
    "\n",
    "# Pretty printing arrays\n",
    "from pprint import pprint"
   ]
  },
  {
   "cell_type": "code",
   "execution_count": 2,
   "id": "blessed-recall",
   "metadata": {},
   "outputs": [],
   "source": [
    "def plot_occupancy_by_name(detector_name,x_cfg,y_cfg,z_cfg):\n",
    "    \"\"\" Fills XY and Z occupancy distribution\n",
    "\n",
    "    :param detector_name: cb_EMCAL\n",
    "    :param x_cfg: [xbins, xmin, xmax]\n",
    "    :param y_cfg: [ybins, ymin, ymax]\n",
    "    :param z_cfg: [zbins, zmin, zmax]\n",
    "    :return: xy_hist, z_hist\n",
    "    \"\"\"\n",
    "\n",
    "    xbins, xmin, xmax = tuple(x_cfg)\n",
    "    ybins, ymin, ymax = tuple(y_cfg)\n",
    "    zbins, zmin, zmax = tuple(z_cfg)\n",
    "\n",
    "    # Apply filter\n",
    "    fltr_by_name = hit_vol[:,:,:len(detector_name)]==detector_name\n",
    "    hit_x_sel = hit_x[fltr_by_name]\n",
    "    hit_y_sel = hit_y[fltr_by_name]\n",
    "    hit_z_sel = hit_z[fltr_by_name]\n",
    "\n",
    "    # Plot xy histogram\n",
    "    xy_hist = Hist(\n",
    "       hist.axis.Regular(xbins, xmin, xmax, name=\"X\", label=\"x [cm]\", flow=False),\n",
    "       hist.axis.Regular(ybins, ymin, ymax, name=\"Y\", label=\"y [cm]\", flow=False),\n",
    "    )\n",
    "    xy_hist.fill(ak.to_numpy(ak.flatten(hit_x_sel/10)), ak.to_numpy(ak.flatten(hit_y_sel/10)))\n",
    "\n",
    "    # Plot z histogram\n",
    "    z_hist = Hist(hist.axis.Regular(zbins, zmin, zmax, name=\"z\", label=\"z [cm]\", flow=False),)\n",
    "    z_hist.fill(ak.to_numpy(ak.flatten(hit_z_sel/10)))\n",
    "    \n",
    "    return xy_hist, z_hist\n",
    "    "
   ]
  },
  {
   "cell_type": "code",
   "execution_count": 3,
   "id": "subsequent-negative",
   "metadata": {},
   "outputs": [
    {
     "data": {
      "text/plain": "[('events;4', <TTree 'events' (76 branches) at 0x7fadcc7cccd0>),\n ('events;3', <TTree 'events' (76 branches) at 0x7fad67366130>)]"
     },
     "execution_count": 3,
     "metadata": {},
     "output_type": "execute_result"
    }
   ],
   "source": [
    "file=uproot4.open(\"test_run.root\")\n",
    "\n",
    "# To see all object names in the file:\n",
    "file.items()"
   ]
  },
  {
   "cell_type": "code",
   "execution_count": 4,
   "id": "heavy-aerospace",
   "metadata": {},
   "outputs": [
    {
     "name": "stdout",
     "output_type": "stream",
     "text": [
      "Number of entries: 1000\n"
     ]
    }
   ],
   "source": [
    "# File has a data tree called 'events'\n",
    "# get events tree as a separate thing\n",
    "tree = file[\"events\"]\n",
    "\n",
    "# Print number of entries\n",
    "print(f\"Number of entries: {tree.num_entries}\")\n",
    "\n",
    "#Uncomment this to see all values:\n",
    "#tree.show()\n",
    "\n",
    "\n",
    "# More TBranch functions:\n",
    "#https://uproot.readthedocs.io/en/latest/uproot.behaviors.TBranch.TBranch.html"
   ]
  },
  {
   "cell_type": "code",
   "execution_count": 5,
   "id": "marine-conditioning",
   "metadata": {},
   "outputs": [],
   "source": [
    "# To load WHOLE data from a branch as an array:\n",
    "hit_id = tree['hit_id'].array()\n",
    "hit_x = tree['hit_x'].array()\n",
    "hit_y = tree['hit_y'].array()\n",
    "hit_z = tree['hit_z'].array()\n",
    "hit_vol = tree['hit_vol_name'].array()"
   ]
  },
  {
   "cell_type": "code",
   "execution_count": 6,
   "id": "incorrect-drain",
   "metadata": {},
   "outputs": [],
   "source": [
    "xy_hist, z_hist = plot_graphs('cb_EMCAL', [50, -250, 250], [50, -250, 250], [50, -200, 200])"
   ]
  },
  {
   "cell_type": "code",
   "execution_count": 7,
   "id": "important-springer",
   "metadata": {},
   "outputs": [
    {
     "data": {
      "text/plain": "[StepArtists(step=<matplotlib.lines.Line2D object at 0x7fad5dd1baf0>, errorbar=None, legend_artist=None)]"
     },
     "execution_count": 7,
     "metadata": {},
     "output_type": "execute_result"
    },
    {
     "data": {
      "text/plain": "<Figure size 894.24x216 with 3 Axes>",
      "image/png": "[encoded data removed]"
     },
     "metadata": {
      "needs_background": "light"
     },
     "output_type": "display_data"
    }
   ],
   "source": [
    "fig, axes = plt.subplots(nrows=1, ncols=2, figsize=(6, 3))\n",
    "xy_hist.plot(ax = axes[0])\n",
    "z_hist.plot(ax = axes[1])\n",
    "\n",
    "#fig.tight_layout()"
   ]
  },
  {
   "cell_type": "code",
   "execution_count": 8,
   "outputs": [],
   "source": [
    "# f, g=plot_graphs('ci_EMCAL',-250,-250,50)\n",
    "# q, r=plot_graphs('ce_EMCAL',-250,-250,50)\n",
    "# q, r=plot_graphs('fi_B0',-100,-100,50)\n",
    "\n",
    "\n",
    "\n"
   ],
   "metadata": {
    "collapsed": false,
    "pycharm": {
     "name": "#%%\n"
    }
   }
  }
 ],
 "metadata": {
  "kernelspec": {
   "display_name": "Python 3",
   "language": "python",
   "name": "python3"
  },
  "language_info": {
   "codemirror_mode": {
    "name": "ipython",
    "version": 3
   },
   "file_extension": ".py",
   "mimetype": "text/x-python",
   "name": "python",
   "nbconvert_exporter": "python",
   "pygments_lexer": "ipython3",
   "version": "3.8.5"
  }
 },
 "nbformat": 4,
 "nbformat_minor": 5
}